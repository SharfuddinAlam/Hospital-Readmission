{
 "cells": [
  {
   "cell_type": "markdown",
   "metadata": {},
   "source": [
    "# Hospital Readmissions Data Analysis and Recommendations for Reduction\n",
    "\n",
    "### Background\n",
    "In October 2012, the US government's Center for Medicare and Medicaid Services (CMS) began reducing Medicare payments for Inpatient Prospective Payment System hospitals with excess readmissions. Excess readmissions are measured by a ratio, by dividing a hospital’s number of “predicted” 30-day readmissions for heart attack, heart failure, and pneumonia by the number that would be “expected,” based on an average hospital with similar patients. A ratio greater than 1 indicates excess readmissions.\n",
    "\n",
    "### Exercise Directions\n",
    "\n",
    "In this exercise, you will:\n",
    "+ critique a preliminary analysis of readmissions data and recommendations (provided below) for reducing the readmissions rate\n",
    "+ construct a statistically sound analysis and make recommendations of your own \n",
    "\n",
    "More instructions provided below. Include your work **in this notebook and submit to your Github account**. \n",
    "\n",
    "### Resources\n",
    "+ Data source: https://data.medicare.gov/Hospital-Compare/Hospital-Readmission-Reduction/9n3s-kdb3\n",
    "+ More information: http://www.cms.gov/Medicare/medicare-fee-for-service-payment/acuteinpatientPPS/readmissions-reduction-program.html\n",
    "+ Markdown syntax: http://nestacms.com/docs/creating-content/markdown-cheat-sheet\n",
    "****"
   ]
  },
  {
   "cell_type": "code",
   "execution_count": 12,
   "metadata": {
    "collapsed": false
   },
   "outputs": [],
   "source": [
    "%matplotlib inline\n",
    "\n",
    "import pandas as pd\n",
    "import numpy as np\n",
    "import matplotlib.pyplot as plt\n",
    "import bokeh.plotting as bkp\n",
    "from mpl_toolkits.axes_grid1 import make_axes_locatable\n",
    "import scipy.stats as stats\n",
    "%matplotlib inline\n",
    "import seaborn as sns\n",
    "from matplotlib import rcParams\n",
    "sns.set_style(\"whitegrid\")\n",
    "sns.set_context(\"poster\")"
   ]
  },
  {
   "cell_type": "code",
   "execution_count": 2,
   "metadata": {
    "collapsed": false
   },
   "outputs": [
    {
     "data": {
      "text/html": [
       "<div>\n",
       "<table border=\"1\" class=\"dataframe\">\n",
       "  <thead>\n",
       "    <tr style=\"text-align: right;\">\n",
       "      <th></th>\n",
       "      <th>Hospital Name</th>\n",
       "      <th>Provider Number</th>\n",
       "      <th>State</th>\n",
       "      <th>Measure Name</th>\n",
       "      <th>Number of Discharges</th>\n",
       "      <th>Footnote</th>\n",
       "      <th>Excess Readmission Ratio</th>\n",
       "      <th>Predicted Readmission Rate</th>\n",
       "      <th>Expected Readmission Rate</th>\n",
       "      <th>Number of Readmissions</th>\n",
       "      <th>Start Date</th>\n",
       "      <th>End Date</th>\n",
       "    </tr>\n",
       "  </thead>\n",
       "  <tbody>\n",
       "    <tr>\n",
       "      <th>0</th>\n",
       "      <td>FROEDTERT MEMORIAL LUTHERAN HOSPITAL</td>\n",
       "      <td>520177</td>\n",
       "      <td>WI</td>\n",
       "      <td>READM-30-HIP-KNEE-HRRP</td>\n",
       "      <td>242</td>\n",
       "      <td>NaN</td>\n",
       "      <td>1.9095</td>\n",
       "      <td>10.8</td>\n",
       "      <td>5.6</td>\n",
       "      <td>38.0</td>\n",
       "      <td>07/01/2010</td>\n",
       "      <td>06/30/2013</td>\n",
       "    </tr>\n",
       "    <tr>\n",
       "      <th>1</th>\n",
       "      <td>PROVIDENCE HOSPITAL</td>\n",
       "      <td>90006</td>\n",
       "      <td>DC</td>\n",
       "      <td>READM-30-HIP-KNEE-HRRP</td>\n",
       "      <td>247</td>\n",
       "      <td>NaN</td>\n",
       "      <td>1.7521</td>\n",
       "      <td>9.2</td>\n",
       "      <td>5.3</td>\n",
       "      <td>33.0</td>\n",
       "      <td>07/01/2010</td>\n",
       "      <td>06/30/2013</td>\n",
       "    </tr>\n",
       "    <tr>\n",
       "      <th>2</th>\n",
       "      <td>BEAUFORT COUNTY MEMORIAL HOSPITAL</td>\n",
       "      <td>420067</td>\n",
       "      <td>SC</td>\n",
       "      <td>READM-30-HIP-KNEE-HRRP</td>\n",
       "      <td>586</td>\n",
       "      <td>NaN</td>\n",
       "      <td>1.5836</td>\n",
       "      <td>7.6</td>\n",
       "      <td>4.8</td>\n",
       "      <td>53.0</td>\n",
       "      <td>07/01/2010</td>\n",
       "      <td>06/30/2013</td>\n",
       "    </tr>\n",
       "    <tr>\n",
       "      <th>3</th>\n",
       "      <td>ADVOCATE CHRIST HOSPITAL &amp; MEDICAL CENTER</td>\n",
       "      <td>140208</td>\n",
       "      <td>IL</td>\n",
       "      <td>READM-30-HIP-KNEE-HRRP</td>\n",
       "      <td>965</td>\n",
       "      <td>NaN</td>\n",
       "      <td>1.5760</td>\n",
       "      <td>9.0</td>\n",
       "      <td>5.7</td>\n",
       "      <td>95.0</td>\n",
       "      <td>07/01/2010</td>\n",
       "      <td>06/30/2013</td>\n",
       "    </tr>\n",
       "    <tr>\n",
       "      <th>4</th>\n",
       "      <td>BRAZOSPORT REGIONAL HEALTH SYSTEM</td>\n",
       "      <td>450072</td>\n",
       "      <td>TX</td>\n",
       "      <td>READM-30-HIP-KNEE-HRRP</td>\n",
       "      <td>149</td>\n",
       "      <td>NaN</td>\n",
       "      <td>1.5308</td>\n",
       "      <td>8.2</td>\n",
       "      <td>5.4</td>\n",
       "      <td>20.0</td>\n",
       "      <td>07/01/2010</td>\n",
       "      <td>06/30/2013</td>\n",
       "    </tr>\n",
       "    <tr>\n",
       "      <th>5</th>\n",
       "      <td>WESTERN MISSOURI MEDICAL CENTER</td>\n",
       "      <td>260097</td>\n",
       "      <td>MO</td>\n",
       "      <td>READM-30-HIP-KNEE-HRRP</td>\n",
       "      <td>141</td>\n",
       "      <td>NaN</td>\n",
       "      <td>1.5189</td>\n",
       "      <td>8.1</td>\n",
       "      <td>5.3</td>\n",
       "      <td>19.0</td>\n",
       "      <td>07/01/2010</td>\n",
       "      <td>06/30/2013</td>\n",
       "    </tr>\n",
       "    <tr>\n",
       "      <th>6</th>\n",
       "      <td>SAINT AGNES HOSPITAL</td>\n",
       "      <td>210011</td>\n",
       "      <td>MD</td>\n",
       "      <td>READM-30-HIP-KNEE-HRRP</td>\n",
       "      <td>390</td>\n",
       "      <td>NaN</td>\n",
       "      <td>1.5079</td>\n",
       "      <td>7.8</td>\n",
       "      <td>5.2</td>\n",
       "      <td>38.0</td>\n",
       "      <td>07/01/2010</td>\n",
       "      <td>06/30/2013</td>\n",
       "    </tr>\n",
       "    <tr>\n",
       "      <th>7</th>\n",
       "      <td>MERCY HOSPITAL JEFFERSON</td>\n",
       "      <td>260023</td>\n",
       "      <td>MO</td>\n",
       "      <td>READM-30-HIP-KNEE-HRRP</td>\n",
       "      <td>178</td>\n",
       "      <td>NaN</td>\n",
       "      <td>1.5019</td>\n",
       "      <td>9.2</td>\n",
       "      <td>6.1</td>\n",
       "      <td>24.0</td>\n",
       "      <td>07/01/2010</td>\n",
       "      <td>06/30/2013</td>\n",
       "    </tr>\n",
       "    <tr>\n",
       "      <th>8</th>\n",
       "      <td>ONSLOW MEMORIAL HOSPITAL</td>\n",
       "      <td>340042</td>\n",
       "      <td>NC</td>\n",
       "      <td>READM-30-HIP-KNEE-HRRP</td>\n",
       "      <td>98</td>\n",
       "      <td>NaN</td>\n",
       "      <td>1.4953</td>\n",
       "      <td>7.9</td>\n",
       "      <td>5.3</td>\n",
       "      <td>15.0</td>\n",
       "      <td>07/01/2010</td>\n",
       "      <td>06/30/2013</td>\n",
       "    </tr>\n",
       "    <tr>\n",
       "      <th>9</th>\n",
       "      <td>FAUQUIER HOSPITAL</td>\n",
       "      <td>490023</td>\n",
       "      <td>VA</td>\n",
       "      <td>READM-30-HIP-KNEE-HRRP</td>\n",
       "      <td>256</td>\n",
       "      <td>NaN</td>\n",
       "      <td>1.4844</td>\n",
       "      <td>7.4</td>\n",
       "      <td>5.0</td>\n",
       "      <td>26.0</td>\n",
       "      <td>07/01/2010</td>\n",
       "      <td>06/30/2013</td>\n",
       "    </tr>\n",
       "    <tr>\n",
       "      <th>10</th>\n",
       "      <td>ROBERT WOOD JOHNSON UNIVERSITY HOSPITAL AT RAHWAY</td>\n",
       "      <td>310024</td>\n",
       "      <td>NJ</td>\n",
       "      <td>READM-30-HIP-KNEE-HRRP</td>\n",
       "      <td>121</td>\n",
       "      <td>NaN</td>\n",
       "      <td>1.4776</td>\n",
       "      <td>9.0</td>\n",
       "      <td>6.1</td>\n",
       "      <td>18.0</td>\n",
       "      <td>07/01/2010</td>\n",
       "      <td>06/30/2013</td>\n",
       "    </tr>\n",
       "    <tr>\n",
       "      <th>11</th>\n",
       "      <td>MERCY ST ANNE HOSPITAL</td>\n",
       "      <td>360262</td>\n",
       "      <td>OH</td>\n",
       "      <td>READM-30-HIP-KNEE-HRRP</td>\n",
       "      <td>108</td>\n",
       "      <td>NaN</td>\n",
       "      <td>1.4691</td>\n",
       "      <td>9.2</td>\n",
       "      <td>6.3</td>\n",
       "      <td>17.0</td>\n",
       "      <td>07/01/2010</td>\n",
       "      <td>06/30/2013</td>\n",
       "    </tr>\n",
       "    <tr>\n",
       "      <th>12</th>\n",
       "      <td>RESTON HOSPITAL CENTER</td>\n",
       "      <td>490107</td>\n",
       "      <td>VA</td>\n",
       "      <td>READM-30-HIP-KNEE-HRRP</td>\n",
       "      <td>780</td>\n",
       "      <td>NaN</td>\n",
       "      <td>1.4612</td>\n",
       "      <td>6.7</td>\n",
       "      <td>4.6</td>\n",
       "      <td>59.0</td>\n",
       "      <td>07/01/2010</td>\n",
       "      <td>06/30/2013</td>\n",
       "    </tr>\n",
       "    <tr>\n",
       "      <th>13</th>\n",
       "      <td>CAPITAL HEALTH MEDICAL CENTER - HOPEWELL</td>\n",
       "      <td>310044</td>\n",
       "      <td>NJ</td>\n",
       "      <td>READM-30-HIP-KNEE-HRRP</td>\n",
       "      <td>216</td>\n",
       "      <td>NaN</td>\n",
       "      <td>1.4559</td>\n",
       "      <td>8.4</td>\n",
       "      <td>5.8</td>\n",
       "      <td>25.0</td>\n",
       "      <td>07/01/2010</td>\n",
       "      <td>06/30/2013</td>\n",
       "    </tr>\n",
       "    <tr>\n",
       "      <th>14</th>\n",
       "      <td>THOMAS JEFFERSON UNIVERSITY HOSPITAL</td>\n",
       "      <td>390174</td>\n",
       "      <td>PA</td>\n",
       "      <td>READM-30-HIP-KNEE-HRRP</td>\n",
       "      <td>1458</td>\n",
       "      <td>NaN</td>\n",
       "      <td>1.4543</td>\n",
       "      <td>7.5</td>\n",
       "      <td>5.2</td>\n",
       "      <td>116.0</td>\n",
       "      <td>07/01/2010</td>\n",
       "      <td>06/30/2013</td>\n",
       "    </tr>\n",
       "    <tr>\n",
       "      <th>15</th>\n",
       "      <td>HOUSTON MEDICAL CENTER</td>\n",
       "      <td>110069</td>\n",
       "      <td>GA</td>\n",
       "      <td>READM-30-HIP-KNEE-HRRP</td>\n",
       "      <td>238</td>\n",
       "      <td>NaN</td>\n",
       "      <td>1.4532</td>\n",
       "      <td>8.1</td>\n",
       "      <td>5.5</td>\n",
       "      <td>26.0</td>\n",
       "      <td>07/01/2010</td>\n",
       "      <td>06/30/2013</td>\n",
       "    </tr>\n",
       "    <tr>\n",
       "      <th>16</th>\n",
       "      <td>UNIVERSITY OF TEXAS MEDICAL BRANCH GAL</td>\n",
       "      <td>450018</td>\n",
       "      <td>TX</td>\n",
       "      <td>READM-30-HIP-KNEE-HRRP</td>\n",
       "      <td>154</td>\n",
       "      <td>NaN</td>\n",
       "      <td>1.4528</td>\n",
       "      <td>7.9</td>\n",
       "      <td>5.4</td>\n",
       "      <td>19.0</td>\n",
       "      <td>07/01/2010</td>\n",
       "      <td>06/30/2013</td>\n",
       "    </tr>\n",
       "    <tr>\n",
       "      <th>17</th>\n",
       "      <td>VALLEY VIEW MEDICAL CENTER</td>\n",
       "      <td>30117</td>\n",
       "      <td>AZ</td>\n",
       "      <td>READM-30-HIP-KNEE-HRRP</td>\n",
       "      <td>117</td>\n",
       "      <td>NaN</td>\n",
       "      <td>1.4486</td>\n",
       "      <td>7.2</td>\n",
       "      <td>4.9</td>\n",
       "      <td>15.0</td>\n",
       "      <td>07/01/2010</td>\n",
       "      <td>06/30/2013</td>\n",
       "    </tr>\n",
       "    <tr>\n",
       "      <th>18</th>\n",
       "      <td>REGIONAL HOSPITAL OF JACKSON</td>\n",
       "      <td>440189</td>\n",
       "      <td>TN</td>\n",
       "      <td>READM-30-HIP-KNEE-HRRP</td>\n",
       "      <td>322</td>\n",
       "      <td>NaN</td>\n",
       "      <td>1.4348</td>\n",
       "      <td>7.6</td>\n",
       "      <td>5.3</td>\n",
       "      <td>31.0</td>\n",
       "      <td>07/01/2010</td>\n",
       "      <td>06/30/2013</td>\n",
       "    </tr>\n",
       "    <tr>\n",
       "      <th>19</th>\n",
       "      <td>METROPLEX HOSPITAL</td>\n",
       "      <td>450152</td>\n",
       "      <td>TX</td>\n",
       "      <td>READM-30-HIP-KNEE-HRRP</td>\n",
       "      <td>98</td>\n",
       "      <td>NaN</td>\n",
       "      <td>1.4333</td>\n",
       "      <td>7.6</td>\n",
       "      <td>5.3</td>\n",
       "      <td>14.0</td>\n",
       "      <td>07/01/2010</td>\n",
       "      <td>06/30/2013</td>\n",
       "    </tr>\n",
       "    <tr>\n",
       "      <th>20</th>\n",
       "      <td>HENDRICK MEDICAL CENTER</td>\n",
       "      <td>450229</td>\n",
       "      <td>TX</td>\n",
       "      <td>READM-30-HIP-KNEE-HRRP</td>\n",
       "      <td>493</td>\n",
       "      <td>NaN</td>\n",
       "      <td>1.4321</td>\n",
       "      <td>7.6</td>\n",
       "      <td>5.3</td>\n",
       "      <td>44.0</td>\n",
       "      <td>07/01/2010</td>\n",
       "      <td>06/30/2013</td>\n",
       "    </tr>\n",
       "    <tr>\n",
       "      <th>21</th>\n",
       "      <td>UNIVERSITY OF COLORADO HOSPITAL ANSCHUTZ INPAT...</td>\n",
       "      <td>60024</td>\n",
       "      <td>CO</td>\n",
       "      <td>READM-30-HIP-KNEE-HRRP</td>\n",
       "      <td>332</td>\n",
       "      <td>NaN</td>\n",
       "      <td>1.4317</td>\n",
       "      <td>7.4</td>\n",
       "      <td>5.1</td>\n",
       "      <td>31.0</td>\n",
       "      <td>07/01/2010</td>\n",
       "      <td>06/30/2013</td>\n",
       "    </tr>\n",
       "    <tr>\n",
       "      <th>22</th>\n",
       "      <td>ST CATHERINE OF SIENA HOSPITAL</td>\n",
       "      <td>330401</td>\n",
       "      <td>NY</td>\n",
       "      <td>READM-30-HIP-KNEE-HRRP</td>\n",
       "      <td>136</td>\n",
       "      <td>NaN</td>\n",
       "      <td>1.4200</td>\n",
       "      <td>7.8</td>\n",
       "      <td>5.5</td>\n",
       "      <td>17.0</td>\n",
       "      <td>07/01/2010</td>\n",
       "      <td>06/30/2013</td>\n",
       "    </tr>\n",
       "    <tr>\n",
       "      <th>23</th>\n",
       "      <td>LITTLE COMPANY OF MARY HOSPITAL</td>\n",
       "      <td>140179</td>\n",
       "      <td>IL</td>\n",
       "      <td>READM-30-HIP-KNEE-HRRP</td>\n",
       "      <td>179</td>\n",
       "      <td>NaN</td>\n",
       "      <td>1.4133</td>\n",
       "      <td>8.2</td>\n",
       "      <td>5.8</td>\n",
       "      <td>21.0</td>\n",
       "      <td>07/01/2010</td>\n",
       "      <td>06/30/2013</td>\n",
       "    </tr>\n",
       "    <tr>\n",
       "      <th>24</th>\n",
       "      <td>SAINT MICHAEL'S MEDICAL CENTER, INC</td>\n",
       "      <td>310096</td>\n",
       "      <td>NJ</td>\n",
       "      <td>READM-30-HIP-KNEE-HRRP</td>\n",
       "      <td>97</td>\n",
       "      <td>NaN</td>\n",
       "      <td>1.4088</td>\n",
       "      <td>9.9</td>\n",
       "      <td>7.0</td>\n",
       "      <td>16.0</td>\n",
       "      <td>07/01/2010</td>\n",
       "      <td>06/30/2013</td>\n",
       "    </tr>\n",
       "    <tr>\n",
       "      <th>25</th>\n",
       "      <td>CHRISTUS ST MICHAEL HEALTH SYSTEM</td>\n",
       "      <td>450801</td>\n",
       "      <td>TX</td>\n",
       "      <td>READM-30-HIP-KNEE-HRRP</td>\n",
       "      <td>536</td>\n",
       "      <td>NaN</td>\n",
       "      <td>1.4033</td>\n",
       "      <td>7.6</td>\n",
       "      <td>5.4</td>\n",
       "      <td>47.0</td>\n",
       "      <td>07/01/2010</td>\n",
       "      <td>06/30/2013</td>\n",
       "    </tr>\n",
       "    <tr>\n",
       "      <th>26</th>\n",
       "      <td>JOHNSTON MEMORIAL HOSPITAL</td>\n",
       "      <td>490053</td>\n",
       "      <td>VA</td>\n",
       "      <td>READM-30-HIP-KNEE-HRRP</td>\n",
       "      <td>268</td>\n",
       "      <td>NaN</td>\n",
       "      <td>1.4031</td>\n",
       "      <td>7.4</td>\n",
       "      <td>5.3</td>\n",
       "      <td>26.0</td>\n",
       "      <td>07/01/2010</td>\n",
       "      <td>06/30/2013</td>\n",
       "    </tr>\n",
       "    <tr>\n",
       "      <th>27</th>\n",
       "      <td>NORTHWESTERN MEMORIAL HOSPITAL</td>\n",
       "      <td>140281</td>\n",
       "      <td>IL</td>\n",
       "      <td>READM-30-HIP-KNEE-HRRP</td>\n",
       "      <td>1658</td>\n",
       "      <td>NaN</td>\n",
       "      <td>1.4026</td>\n",
       "      <td>6.8</td>\n",
       "      <td>4.9</td>\n",
       "      <td>119.0</td>\n",
       "      <td>07/01/2010</td>\n",
       "      <td>06/30/2013</td>\n",
       "    </tr>\n",
       "    <tr>\n",
       "      <th>28</th>\n",
       "      <td>JACKSON COUNTY MEMORIAL HOSPITAL AUTHORITY</td>\n",
       "      <td>370022</td>\n",
       "      <td>OK</td>\n",
       "      <td>READM-30-HIP-KNEE-HRRP</td>\n",
       "      <td>260</td>\n",
       "      <td>NaN</td>\n",
       "      <td>1.4022</td>\n",
       "      <td>7.3</td>\n",
       "      <td>5.2</td>\n",
       "      <td>25.0</td>\n",
       "      <td>07/01/2010</td>\n",
       "      <td>06/30/2013</td>\n",
       "    </tr>\n",
       "    <tr>\n",
       "      <th>29</th>\n",
       "      <td>RALEIGH GENERAL HOSPITAL</td>\n",
       "      <td>510070</td>\n",
       "      <td>WV</td>\n",
       "      <td>READM-30-HIP-KNEE-HRRP</td>\n",
       "      <td>57</td>\n",
       "      <td>NaN</td>\n",
       "      <td>1.3992</td>\n",
       "      <td>8.5</td>\n",
       "      <td>6.1</td>\n",
       "      <td>11.0</td>\n",
       "      <td>07/01/2010</td>\n",
       "      <td>06/30/2013</td>\n",
       "    </tr>\n",
       "    <tr>\n",
       "      <th>...</th>\n",
       "      <td>...</td>\n",
       "      <td>...</td>\n",
       "      <td>...</td>\n",
       "      <td>...</td>\n",
       "      <td>...</td>\n",
       "      <td>...</td>\n",
       "      <td>...</td>\n",
       "      <td>...</td>\n",
       "      <td>...</td>\n",
       "      <td>...</td>\n",
       "      <td>...</td>\n",
       "      <td>...</td>\n",
       "    </tr>\n",
       "    <tr>\n",
       "      <th>16830</th>\n",
       "      <td>BAILEY MEDICAL CENTER, LLC</td>\n",
       "      <td>370228</td>\n",
       "      <td>OK</td>\n",
       "      <td>READM-30-AMI-HRRP</td>\n",
       "      <td>Not Available</td>\n",
       "      <td>1.0</td>\n",
       "      <td>NaN</td>\n",
       "      <td>NaN</td>\n",
       "      <td>NaN</td>\n",
       "      <td>NaN</td>\n",
       "      <td>07/01/2010</td>\n",
       "      <td>06/30/2013</td>\n",
       "    </tr>\n",
       "    <tr>\n",
       "      <th>16831</th>\n",
       "      <td>MC DONOUGH DISTRICT HOSPITAL</td>\n",
       "      <td>140089</td>\n",
       "      <td>IL</td>\n",
       "      <td>READM-30-AMI-HRRP</td>\n",
       "      <td>Not Available</td>\n",
       "      <td>1.0</td>\n",
       "      <td>NaN</td>\n",
       "      <td>NaN</td>\n",
       "      <td>NaN</td>\n",
       "      <td>NaN</td>\n",
       "      <td>07/01/2010</td>\n",
       "      <td>06/30/2013</td>\n",
       "    </tr>\n",
       "    <tr>\n",
       "      <th>16832</th>\n",
       "      <td>MIDWESTERN REGION MED CENTER</td>\n",
       "      <td>140100</td>\n",
       "      <td>IL</td>\n",
       "      <td>READM-30-COPD-HRRP</td>\n",
       "      <td>Not Available</td>\n",
       "      <td>1.0</td>\n",
       "      <td>NaN</td>\n",
       "      <td>NaN</td>\n",
       "      <td>NaN</td>\n",
       "      <td>NaN</td>\n",
       "      <td>07/01/2010</td>\n",
       "      <td>06/30/2013</td>\n",
       "    </tr>\n",
       "    <tr>\n",
       "      <th>16833</th>\n",
       "      <td>HIGHLANDS HOSPITAL</td>\n",
       "      <td>390184</td>\n",
       "      <td>PA</td>\n",
       "      <td>READM-30-HIP-KNEE-HRRP</td>\n",
       "      <td>Not Available</td>\n",
       "      <td>1.0</td>\n",
       "      <td>NaN</td>\n",
       "      <td>NaN</td>\n",
       "      <td>NaN</td>\n",
       "      <td>NaN</td>\n",
       "      <td>07/01/2010</td>\n",
       "      <td>06/30/2013</td>\n",
       "    </tr>\n",
       "    <tr>\n",
       "      <th>16834</th>\n",
       "      <td>UNIVERSITY GENERAL HOSPITAL</td>\n",
       "      <td>670019</td>\n",
       "      <td>TX</td>\n",
       "      <td>READM-30-HIP-KNEE-HRRP</td>\n",
       "      <td>Not Available</td>\n",
       "      <td>1.0</td>\n",
       "      <td>NaN</td>\n",
       "      <td>NaN</td>\n",
       "      <td>NaN</td>\n",
       "      <td>NaN</td>\n",
       "      <td>07/01/2010</td>\n",
       "      <td>06/30/2013</td>\n",
       "    </tr>\n",
       "    <tr>\n",
       "      <th>16835</th>\n",
       "      <td>MAYHILL HOSPITAL</td>\n",
       "      <td>670010</td>\n",
       "      <td>TX</td>\n",
       "      <td>READM-30-PN-HRRP</td>\n",
       "      <td>Not Available</td>\n",
       "      <td>5.0</td>\n",
       "      <td>NaN</td>\n",
       "      <td>NaN</td>\n",
       "      <td>NaN</td>\n",
       "      <td>NaN</td>\n",
       "      <td>07/01/2010</td>\n",
       "      <td>06/30/2013</td>\n",
       "    </tr>\n",
       "    <tr>\n",
       "      <th>16836</th>\n",
       "      <td>MEMORIAL HERMANN SURGICAL HOSPITAL KINGWOOD</td>\n",
       "      <td>670005</td>\n",
       "      <td>TX</td>\n",
       "      <td>READM-30-COPD-HRRP</td>\n",
       "      <td>Not Available</td>\n",
       "      <td>5.0</td>\n",
       "      <td>NaN</td>\n",
       "      <td>NaN</td>\n",
       "      <td>NaN</td>\n",
       "      <td>NaN</td>\n",
       "      <td>07/01/2010</td>\n",
       "      <td>06/30/2013</td>\n",
       "    </tr>\n",
       "    <tr>\n",
       "      <th>16837</th>\n",
       "      <td>UNIVERSITY GENERAL HOSPITAL DALLAS</td>\n",
       "      <td>670002</td>\n",
       "      <td>TX</td>\n",
       "      <td>READM-30-AMI-HRRP</td>\n",
       "      <td>Not Available</td>\n",
       "      <td>1.0</td>\n",
       "      <td>NaN</td>\n",
       "      <td>NaN</td>\n",
       "      <td>NaN</td>\n",
       "      <td>NaN</td>\n",
       "      <td>07/01/2010</td>\n",
       "      <td>06/30/2013</td>\n",
       "    </tr>\n",
       "    <tr>\n",
       "      <th>16838</th>\n",
       "      <td>MOUNTAIN VIEW REGIONAL HOSPITAL</td>\n",
       "      <td>530033</td>\n",
       "      <td>WY</td>\n",
       "      <td>READM-30-COPD-HRRP</td>\n",
       "      <td>Not Available</td>\n",
       "      <td>1.0</td>\n",
       "      <td>NaN</td>\n",
       "      <td>NaN</td>\n",
       "      <td>NaN</td>\n",
       "      <td>NaN</td>\n",
       "      <td>07/01/2010</td>\n",
       "      <td>06/30/2013</td>\n",
       "    </tr>\n",
       "    <tr>\n",
       "      <th>16839</th>\n",
       "      <td>SUMMIT MEDICAL CENTER</td>\n",
       "      <td>370225</td>\n",
       "      <td>OK</td>\n",
       "      <td>READM-30-HIP-KNEE-HRRP</td>\n",
       "      <td>Not Available</td>\n",
       "      <td>1.0</td>\n",
       "      <td>NaN</td>\n",
       "      <td>NaN</td>\n",
       "      <td>NaN</td>\n",
       "      <td>NaN</td>\n",
       "      <td>07/01/2010</td>\n",
       "      <td>06/30/2013</td>\n",
       "    </tr>\n",
       "    <tr>\n",
       "      <th>16840</th>\n",
       "      <td>ONECORE HEALTH</td>\n",
       "      <td>370220</td>\n",
       "      <td>OK</td>\n",
       "      <td>READM-30-HF-HRRP</td>\n",
       "      <td>Not Available</td>\n",
       "      <td>5.0</td>\n",
       "      <td>NaN</td>\n",
       "      <td>NaN</td>\n",
       "      <td>NaN</td>\n",
       "      <td>NaN</td>\n",
       "      <td>07/01/2010</td>\n",
       "      <td>06/30/2013</td>\n",
       "    </tr>\n",
       "    <tr>\n",
       "      <th>16841</th>\n",
       "      <td>COMMUNITY HOSPITAL, LLC</td>\n",
       "      <td>370203</td>\n",
       "      <td>OK</td>\n",
       "      <td>READM-30-COPD-HRRP</td>\n",
       "      <td>Not Available</td>\n",
       "      <td>1.0</td>\n",
       "      <td>NaN</td>\n",
       "      <td>NaN</td>\n",
       "      <td>NaN</td>\n",
       "      <td>NaN</td>\n",
       "      <td>07/01/2010</td>\n",
       "      <td>06/30/2013</td>\n",
       "    </tr>\n",
       "    <tr>\n",
       "      <th>16842</th>\n",
       "      <td>SURGICAL HOSPITAL OF OKLAHOMA</td>\n",
       "      <td>370201</td>\n",
       "      <td>OK</td>\n",
       "      <td>READM-30-HIP-KNEE-HRRP</td>\n",
       "      <td>Not Available</td>\n",
       "      <td>1.0</td>\n",
       "      <td>NaN</td>\n",
       "      <td>NaN</td>\n",
       "      <td>NaN</td>\n",
       "      <td>NaN</td>\n",
       "      <td>07/01/2010</td>\n",
       "      <td>06/30/2013</td>\n",
       "    </tr>\n",
       "    <tr>\n",
       "      <th>16843</th>\n",
       "      <td>FRANCISCAN ST ELIZABETH HEALTH - LAFAYETTE CEN...</td>\n",
       "      <td>150003</td>\n",
       "      <td>IN</td>\n",
       "      <td>READM-30-HIP-KNEE-HRRP</td>\n",
       "      <td>Not Available</td>\n",
       "      <td>1.0</td>\n",
       "      <td>NaN</td>\n",
       "      <td>NaN</td>\n",
       "      <td>NaN</td>\n",
       "      <td>NaN</td>\n",
       "      <td>07/01/2010</td>\n",
       "      <td>06/30/2013</td>\n",
       "    </tr>\n",
       "    <tr>\n",
       "      <th>16844</th>\n",
       "      <td>SOUTHWESTERN REGIONAL MEDICAL CENTER</td>\n",
       "      <td>370190</td>\n",
       "      <td>OK</td>\n",
       "      <td>READM-30-COPD-HRRP</td>\n",
       "      <td>Not Available</td>\n",
       "      <td>1.0</td>\n",
       "      <td>NaN</td>\n",
       "      <td>NaN</td>\n",
       "      <td>NaN</td>\n",
       "      <td>NaN</td>\n",
       "      <td>07/01/2010</td>\n",
       "      <td>06/30/2013</td>\n",
       "    </tr>\n",
       "    <tr>\n",
       "      <th>16845</th>\n",
       "      <td>HILL REGIONAL HOSPITAL</td>\n",
       "      <td>450192</td>\n",
       "      <td>TX</td>\n",
       "      <td>READM-30-AMI-HRRP</td>\n",
       "      <td>Not Available</td>\n",
       "      <td>1.0</td>\n",
       "      <td>NaN</td>\n",
       "      <td>NaN</td>\n",
       "      <td>NaN</td>\n",
       "      <td>NaN</td>\n",
       "      <td>07/01/2010</td>\n",
       "      <td>06/30/2013</td>\n",
       "    </tr>\n",
       "    <tr>\n",
       "      <th>16846</th>\n",
       "      <td>GRACE MEDICAL CENTER</td>\n",
       "      <td>450162</td>\n",
       "      <td>TX</td>\n",
       "      <td>READM-30-HF-HRRP</td>\n",
       "      <td>Not Available</td>\n",
       "      <td>1.0</td>\n",
       "      <td>NaN</td>\n",
       "      <td>NaN</td>\n",
       "      <td>NaN</td>\n",
       "      <td>NaN</td>\n",
       "      <td>07/01/2010</td>\n",
       "      <td>06/30/2013</td>\n",
       "    </tr>\n",
       "    <tr>\n",
       "      <th>16847</th>\n",
       "      <td>TRINITY MUSCATINE</td>\n",
       "      <td>160013</td>\n",
       "      <td>IA</td>\n",
       "      <td>READM-30-HIP-KNEE-HRRP</td>\n",
       "      <td>Not Available</td>\n",
       "      <td>1.0</td>\n",
       "      <td>NaN</td>\n",
       "      <td>NaN</td>\n",
       "      <td>NaN</td>\n",
       "      <td>NaN</td>\n",
       "      <td>07/01/2010</td>\n",
       "      <td>06/30/2013</td>\n",
       "    </tr>\n",
       "    <tr>\n",
       "      <th>16848</th>\n",
       "      <td>SARTORI MEMORIAL HOSPITAL</td>\n",
       "      <td>160040</td>\n",
       "      <td>IA</td>\n",
       "      <td>READM-30-AMI-HRRP</td>\n",
       "      <td>Not Available</td>\n",
       "      <td>1.0</td>\n",
       "      <td>NaN</td>\n",
       "      <td>NaN</td>\n",
       "      <td>NaN</td>\n",
       "      <td>NaN</td>\n",
       "      <td>07/01/2010</td>\n",
       "      <td>06/30/2013</td>\n",
       "    </tr>\n",
       "    <tr>\n",
       "      <th>16849</th>\n",
       "      <td>NY EYE AND EAR INFIRMARY</td>\n",
       "      <td>330100</td>\n",
       "      <td>NY</td>\n",
       "      <td>READM-30-AMI-HRRP</td>\n",
       "      <td>Not Available</td>\n",
       "      <td>5.0</td>\n",
       "      <td>NaN</td>\n",
       "      <td>NaN</td>\n",
       "      <td>NaN</td>\n",
       "      <td>NaN</td>\n",
       "      <td>07/01/2010</td>\n",
       "      <td>06/30/2013</td>\n",
       "    </tr>\n",
       "    <tr>\n",
       "      <th>16850</th>\n",
       "      <td>JONES MEMORIAL HOSPITAL</td>\n",
       "      <td>330096</td>\n",
       "      <td>NY</td>\n",
       "      <td>READM-30-HIP-KNEE-HRRP</td>\n",
       "      <td>Not Available</td>\n",
       "      <td>5.0</td>\n",
       "      <td>NaN</td>\n",
       "      <td>NaN</td>\n",
       "      <td>NaN</td>\n",
       "      <td>NaN</td>\n",
       "      <td>07/01/2010</td>\n",
       "      <td>06/30/2013</td>\n",
       "    </tr>\n",
       "    <tr>\n",
       "      <th>16851</th>\n",
       "      <td>BROOKDALE HOSPITAL MEDICAL CENTER</td>\n",
       "      <td>330233</td>\n",
       "      <td>NY</td>\n",
       "      <td>READM-30-HIP-KNEE-HRRP</td>\n",
       "      <td>Not Available</td>\n",
       "      <td>1.0</td>\n",
       "      <td>NaN</td>\n",
       "      <td>NaN</td>\n",
       "      <td>NaN</td>\n",
       "      <td>NaN</td>\n",
       "      <td>07/01/2010</td>\n",
       "      <td>06/30/2013</td>\n",
       "    </tr>\n",
       "    <tr>\n",
       "      <th>16852</th>\n",
       "      <td>SGMC BERRIEN CAMPUS</td>\n",
       "      <td>110234</td>\n",
       "      <td>GA</td>\n",
       "      <td>READM-30-COPD-HRRP</td>\n",
       "      <td>Not Available</td>\n",
       "      <td>5.0</td>\n",
       "      <td>NaN</td>\n",
       "      <td>NaN</td>\n",
       "      <td>NaN</td>\n",
       "      <td>NaN</td>\n",
       "      <td>07/01/2010</td>\n",
       "      <td>06/30/2013</td>\n",
       "    </tr>\n",
       "    <tr>\n",
       "      <th>16853</th>\n",
       "      <td>MEMORIAL HOSPITAL OF SALEM COUNTY</td>\n",
       "      <td>310091</td>\n",
       "      <td>NJ</td>\n",
       "      <td>READM-30-HIP-KNEE-HRRP</td>\n",
       "      <td>Not Available</td>\n",
       "      <td>1.0</td>\n",
       "      <td>NaN</td>\n",
       "      <td>NaN</td>\n",
       "      <td>NaN</td>\n",
       "      <td>NaN</td>\n",
       "      <td>07/01/2010</td>\n",
       "      <td>06/30/2013</td>\n",
       "    </tr>\n",
       "    <tr>\n",
       "      <th>16854</th>\n",
       "      <td>COMMUNITY MEMORIAL HOSPITAL, INC</td>\n",
       "      <td>330249</td>\n",
       "      <td>NY</td>\n",
       "      <td>READM-30-AMI-HRRP</td>\n",
       "      <td>Not Available</td>\n",
       "      <td>1.0</td>\n",
       "      <td>NaN</td>\n",
       "      <td>NaN</td>\n",
       "      <td>NaN</td>\n",
       "      <td>NaN</td>\n",
       "      <td>07/01/2010</td>\n",
       "      <td>06/30/2013</td>\n",
       "    </tr>\n",
       "    <tr>\n",
       "      <th>16855</th>\n",
       "      <td>BERTRAND CHAFFEE HOSPITAL</td>\n",
       "      <td>330111</td>\n",
       "      <td>NY</td>\n",
       "      <td>READM-30-AMI-HRRP</td>\n",
       "      <td>Not Available</td>\n",
       "      <td>1.0</td>\n",
       "      <td>NaN</td>\n",
       "      <td>NaN</td>\n",
       "      <td>NaN</td>\n",
       "      <td>NaN</td>\n",
       "      <td>07/01/2010</td>\n",
       "      <td>06/30/2013</td>\n",
       "    </tr>\n",
       "    <tr>\n",
       "      <th>16856</th>\n",
       "      <td>CROWNPOINT HEALTHCARE FACILITY</td>\n",
       "      <td>320062</td>\n",
       "      <td>NM</td>\n",
       "      <td>READM-30-AMI-HRRP</td>\n",
       "      <td>Not Available</td>\n",
       "      <td>1.0</td>\n",
       "      <td>NaN</td>\n",
       "      <td>NaN</td>\n",
       "      <td>NaN</td>\n",
       "      <td>NaN</td>\n",
       "      <td>07/01/2010</td>\n",
       "      <td>06/30/2013</td>\n",
       "    </tr>\n",
       "    <tr>\n",
       "      <th>16857</th>\n",
       "      <td>THREE RIVERS MEDICAL CENTER</td>\n",
       "      <td>180128</td>\n",
       "      <td>KY</td>\n",
       "      <td>READM-30-HIP-KNEE-HRRP</td>\n",
       "      <td>0</td>\n",
       "      <td>7.0</td>\n",
       "      <td>NaN</td>\n",
       "      <td>NaN</td>\n",
       "      <td>NaN</td>\n",
       "      <td>NaN</td>\n",
       "      <td>07/01/2010</td>\n",
       "      <td>06/30/2013</td>\n",
       "    </tr>\n",
       "    <tr>\n",
       "      <th>16858</th>\n",
       "      <td>GALLUP INDIAN MEDICAL CENTER</td>\n",
       "      <td>320061</td>\n",
       "      <td>NM</td>\n",
       "      <td>READM-30-AMI-HRRP</td>\n",
       "      <td>Not Available</td>\n",
       "      <td>1.0</td>\n",
       "      <td>NaN</td>\n",
       "      <td>NaN</td>\n",
       "      <td>NaN</td>\n",
       "      <td>NaN</td>\n",
       "      <td>07/01/2010</td>\n",
       "      <td>06/30/2013</td>\n",
       "    </tr>\n",
       "    <tr>\n",
       "      <th>16859</th>\n",
       "      <td>UNIVERSITY OF LOUISVILLE HOSPITAL</td>\n",
       "      <td>180141</td>\n",
       "      <td>KY</td>\n",
       "      <td>READM-30-HIP-KNEE-HRRP</td>\n",
       "      <td>Not Available</td>\n",
       "      <td>1.0</td>\n",
       "      <td>NaN</td>\n",
       "      <td>NaN</td>\n",
       "      <td>NaN</td>\n",
       "      <td>NaN</td>\n",
       "      <td>07/01/2010</td>\n",
       "      <td>06/30/2013</td>\n",
       "    </tr>\n",
       "  </tbody>\n",
       "</table>\n",
       "<p>16860 rows × 12 columns</p>\n",
       "</div>"
      ],
      "text/plain": [
       "                                           Hospital Name  Provider Number  \\\n",
       "0                   FROEDTERT MEMORIAL LUTHERAN HOSPITAL           520177   \n",
       "1                                    PROVIDENCE HOSPITAL            90006   \n",
       "2                      BEAUFORT COUNTY MEMORIAL HOSPITAL           420067   \n",
       "3              ADVOCATE CHRIST HOSPITAL & MEDICAL CENTER           140208   \n",
       "4                      BRAZOSPORT REGIONAL HEALTH SYSTEM           450072   \n",
       "5                        WESTERN MISSOURI MEDICAL CENTER           260097   \n",
       "6                                   SAINT AGNES HOSPITAL           210011   \n",
       "7                               MERCY HOSPITAL JEFFERSON           260023   \n",
       "8                               ONSLOW MEMORIAL HOSPITAL           340042   \n",
       "9                                      FAUQUIER HOSPITAL           490023   \n",
       "10     ROBERT WOOD JOHNSON UNIVERSITY HOSPITAL AT RAHWAY           310024   \n",
       "11                                MERCY ST ANNE HOSPITAL           360262   \n",
       "12                                RESTON HOSPITAL CENTER           490107   \n",
       "13              CAPITAL HEALTH MEDICAL CENTER - HOPEWELL           310044   \n",
       "14                  THOMAS JEFFERSON UNIVERSITY HOSPITAL           390174   \n",
       "15                                HOUSTON MEDICAL CENTER           110069   \n",
       "16                UNIVERSITY OF TEXAS MEDICAL BRANCH GAL           450018   \n",
       "17                            VALLEY VIEW MEDICAL CENTER            30117   \n",
       "18                          REGIONAL HOSPITAL OF JACKSON           440189   \n",
       "19                                    METROPLEX HOSPITAL           450152   \n",
       "20                               HENDRICK MEDICAL CENTER           450229   \n",
       "21     UNIVERSITY OF COLORADO HOSPITAL ANSCHUTZ INPAT...            60024   \n",
       "22                        ST CATHERINE OF SIENA HOSPITAL           330401   \n",
       "23                       LITTLE COMPANY OF MARY HOSPITAL           140179   \n",
       "24                   SAINT MICHAEL'S MEDICAL CENTER, INC           310096   \n",
       "25                     CHRISTUS ST MICHAEL HEALTH SYSTEM           450801   \n",
       "26                            JOHNSTON MEMORIAL HOSPITAL           490053   \n",
       "27                        NORTHWESTERN MEMORIAL HOSPITAL           140281   \n",
       "28            JACKSON COUNTY MEMORIAL HOSPITAL AUTHORITY           370022   \n",
       "29                              RALEIGH GENERAL HOSPITAL           510070   \n",
       "...                                                  ...              ...   \n",
       "16830                         BAILEY MEDICAL CENTER, LLC           370228   \n",
       "16831                       MC DONOUGH DISTRICT HOSPITAL           140089   \n",
       "16832                       MIDWESTERN REGION MED CENTER           140100   \n",
       "16833                                 HIGHLANDS HOSPITAL           390184   \n",
       "16834                        UNIVERSITY GENERAL HOSPITAL           670019   \n",
       "16835                                   MAYHILL HOSPITAL           670010   \n",
       "16836        MEMORIAL HERMANN SURGICAL HOSPITAL KINGWOOD           670005   \n",
       "16837                 UNIVERSITY GENERAL HOSPITAL DALLAS           670002   \n",
       "16838                    MOUNTAIN VIEW REGIONAL HOSPITAL           530033   \n",
       "16839                              SUMMIT MEDICAL CENTER           370225   \n",
       "16840                                     ONECORE HEALTH           370220   \n",
       "16841                            COMMUNITY HOSPITAL, LLC           370203   \n",
       "16842                      SURGICAL HOSPITAL OF OKLAHOMA           370201   \n",
       "16843  FRANCISCAN ST ELIZABETH HEALTH - LAFAYETTE CEN...           150003   \n",
       "16844               SOUTHWESTERN REGIONAL MEDICAL CENTER           370190   \n",
       "16845                             HILL REGIONAL HOSPITAL           450192   \n",
       "16846                               GRACE MEDICAL CENTER           450162   \n",
       "16847                                  TRINITY MUSCATINE           160013   \n",
       "16848                          SARTORI MEMORIAL HOSPITAL           160040   \n",
       "16849                           NY EYE AND EAR INFIRMARY           330100   \n",
       "16850                            JONES MEMORIAL HOSPITAL           330096   \n",
       "16851                  BROOKDALE HOSPITAL MEDICAL CENTER           330233   \n",
       "16852                                SGMC BERRIEN CAMPUS           110234   \n",
       "16853                  MEMORIAL HOSPITAL OF SALEM COUNTY           310091   \n",
       "16854                   COMMUNITY MEMORIAL HOSPITAL, INC           330249   \n",
       "16855                          BERTRAND CHAFFEE HOSPITAL           330111   \n",
       "16856                     CROWNPOINT HEALTHCARE FACILITY           320062   \n",
       "16857                        THREE RIVERS MEDICAL CENTER           180128   \n",
       "16858                       GALLUP INDIAN MEDICAL CENTER           320061   \n",
       "16859                  UNIVERSITY OF LOUISVILLE HOSPITAL           180141   \n",
       "\n",
       "      State            Measure Name Number of Discharges  Footnote  \\\n",
       "0        WI  READM-30-HIP-KNEE-HRRP                  242       NaN   \n",
       "1        DC  READM-30-HIP-KNEE-HRRP                  247       NaN   \n",
       "2        SC  READM-30-HIP-KNEE-HRRP                  586       NaN   \n",
       "3        IL  READM-30-HIP-KNEE-HRRP                  965       NaN   \n",
       "4        TX  READM-30-HIP-KNEE-HRRP                  149       NaN   \n",
       "5        MO  READM-30-HIP-KNEE-HRRP                  141       NaN   \n",
       "6        MD  READM-30-HIP-KNEE-HRRP                  390       NaN   \n",
       "7        MO  READM-30-HIP-KNEE-HRRP                  178       NaN   \n",
       "8        NC  READM-30-HIP-KNEE-HRRP                   98       NaN   \n",
       "9        VA  READM-30-HIP-KNEE-HRRP                  256       NaN   \n",
       "10       NJ  READM-30-HIP-KNEE-HRRP                  121       NaN   \n",
       "11       OH  READM-30-HIP-KNEE-HRRP                  108       NaN   \n",
       "12       VA  READM-30-HIP-KNEE-HRRP                  780       NaN   \n",
       "13       NJ  READM-30-HIP-KNEE-HRRP                  216       NaN   \n",
       "14       PA  READM-30-HIP-KNEE-HRRP                 1458       NaN   \n",
       "15       GA  READM-30-HIP-KNEE-HRRP                  238       NaN   \n",
       "16       TX  READM-30-HIP-KNEE-HRRP                  154       NaN   \n",
       "17       AZ  READM-30-HIP-KNEE-HRRP                  117       NaN   \n",
       "18       TN  READM-30-HIP-KNEE-HRRP                  322       NaN   \n",
       "19       TX  READM-30-HIP-KNEE-HRRP                   98       NaN   \n",
       "20       TX  READM-30-HIP-KNEE-HRRP                  493       NaN   \n",
       "21       CO  READM-30-HIP-KNEE-HRRP                  332       NaN   \n",
       "22       NY  READM-30-HIP-KNEE-HRRP                  136       NaN   \n",
       "23       IL  READM-30-HIP-KNEE-HRRP                  179       NaN   \n",
       "24       NJ  READM-30-HIP-KNEE-HRRP                   97       NaN   \n",
       "25       TX  READM-30-HIP-KNEE-HRRP                  536       NaN   \n",
       "26       VA  READM-30-HIP-KNEE-HRRP                  268       NaN   \n",
       "27       IL  READM-30-HIP-KNEE-HRRP                 1658       NaN   \n",
       "28       OK  READM-30-HIP-KNEE-HRRP                  260       NaN   \n",
       "29       WV  READM-30-HIP-KNEE-HRRP                   57       NaN   \n",
       "...     ...                     ...                  ...       ...   \n",
       "16830    OK       READM-30-AMI-HRRP        Not Available       1.0   \n",
       "16831    IL       READM-30-AMI-HRRP        Not Available       1.0   \n",
       "16832    IL      READM-30-COPD-HRRP        Not Available       1.0   \n",
       "16833    PA  READM-30-HIP-KNEE-HRRP        Not Available       1.0   \n",
       "16834    TX  READM-30-HIP-KNEE-HRRP        Not Available       1.0   \n",
       "16835    TX        READM-30-PN-HRRP        Not Available       5.0   \n",
       "16836    TX      READM-30-COPD-HRRP        Not Available       5.0   \n",
       "16837    TX       READM-30-AMI-HRRP        Not Available       1.0   \n",
       "16838    WY      READM-30-COPD-HRRP        Not Available       1.0   \n",
       "16839    OK  READM-30-HIP-KNEE-HRRP        Not Available       1.0   \n",
       "16840    OK        READM-30-HF-HRRP        Not Available       5.0   \n",
       "16841    OK      READM-30-COPD-HRRP        Not Available       1.0   \n",
       "16842    OK  READM-30-HIP-KNEE-HRRP        Not Available       1.0   \n",
       "16843    IN  READM-30-HIP-KNEE-HRRP        Not Available       1.0   \n",
       "16844    OK      READM-30-COPD-HRRP        Not Available       1.0   \n",
       "16845    TX       READM-30-AMI-HRRP        Not Available       1.0   \n",
       "16846    TX        READM-30-HF-HRRP        Not Available       1.0   \n",
       "16847    IA  READM-30-HIP-KNEE-HRRP        Not Available       1.0   \n",
       "16848    IA       READM-30-AMI-HRRP        Not Available       1.0   \n",
       "16849    NY       READM-30-AMI-HRRP        Not Available       5.0   \n",
       "16850    NY  READM-30-HIP-KNEE-HRRP        Not Available       5.0   \n",
       "16851    NY  READM-30-HIP-KNEE-HRRP        Not Available       1.0   \n",
       "16852    GA      READM-30-COPD-HRRP        Not Available       5.0   \n",
       "16853    NJ  READM-30-HIP-KNEE-HRRP        Not Available       1.0   \n",
       "16854    NY       READM-30-AMI-HRRP        Not Available       1.0   \n",
       "16855    NY       READM-30-AMI-HRRP        Not Available       1.0   \n",
       "16856    NM       READM-30-AMI-HRRP        Not Available       1.0   \n",
       "16857    KY  READM-30-HIP-KNEE-HRRP                    0       7.0   \n",
       "16858    NM       READM-30-AMI-HRRP        Not Available       1.0   \n",
       "16859    KY  READM-30-HIP-KNEE-HRRP        Not Available       1.0   \n",
       "\n",
       "       Excess Readmission Ratio  Predicted Readmission Rate  \\\n",
       "0                        1.9095                        10.8   \n",
       "1                        1.7521                         9.2   \n",
       "2                        1.5836                         7.6   \n",
       "3                        1.5760                         9.0   \n",
       "4                        1.5308                         8.2   \n",
       "5                        1.5189                         8.1   \n",
       "6                        1.5079                         7.8   \n",
       "7                        1.5019                         9.2   \n",
       "8                        1.4953                         7.9   \n",
       "9                        1.4844                         7.4   \n",
       "10                       1.4776                         9.0   \n",
       "11                       1.4691                         9.2   \n",
       "12                       1.4612                         6.7   \n",
       "13                       1.4559                         8.4   \n",
       "14                       1.4543                         7.5   \n",
       "15                       1.4532                         8.1   \n",
       "16                       1.4528                         7.9   \n",
       "17                       1.4486                         7.2   \n",
       "18                       1.4348                         7.6   \n",
       "19                       1.4333                         7.6   \n",
       "20                       1.4321                         7.6   \n",
       "21                       1.4317                         7.4   \n",
       "22                       1.4200                         7.8   \n",
       "23                       1.4133                         8.2   \n",
       "24                       1.4088                         9.9   \n",
       "25                       1.4033                         7.6   \n",
       "26                       1.4031                         7.4   \n",
       "27                       1.4026                         6.8   \n",
       "28                       1.4022                         7.3   \n",
       "29                       1.3992                         8.5   \n",
       "...                         ...                         ...   \n",
       "16830                       NaN                         NaN   \n",
       "16831                       NaN                         NaN   \n",
       "16832                       NaN                         NaN   \n",
       "16833                       NaN                         NaN   \n",
       "16834                       NaN                         NaN   \n",
       "16835                       NaN                         NaN   \n",
       "16836                       NaN                         NaN   \n",
       "16837                       NaN                         NaN   \n",
       "16838                       NaN                         NaN   \n",
       "16839                       NaN                         NaN   \n",
       "16840                       NaN                         NaN   \n",
       "16841                       NaN                         NaN   \n",
       "16842                       NaN                         NaN   \n",
       "16843                       NaN                         NaN   \n",
       "16844                       NaN                         NaN   \n",
       "16845                       NaN                         NaN   \n",
       "16846                       NaN                         NaN   \n",
       "16847                       NaN                         NaN   \n",
       "16848                       NaN                         NaN   \n",
       "16849                       NaN                         NaN   \n",
       "16850                       NaN                         NaN   \n",
       "16851                       NaN                         NaN   \n",
       "16852                       NaN                         NaN   \n",
       "16853                       NaN                         NaN   \n",
       "16854                       NaN                         NaN   \n",
       "16855                       NaN                         NaN   \n",
       "16856                       NaN                         NaN   \n",
       "16857                       NaN                         NaN   \n",
       "16858                       NaN                         NaN   \n",
       "16859                       NaN                         NaN   \n",
       "\n",
       "       Expected Readmission Rate  Number of Readmissions  Start Date  \\\n",
       "0                            5.6                    38.0  07/01/2010   \n",
       "1                            5.3                    33.0  07/01/2010   \n",
       "2                            4.8                    53.0  07/01/2010   \n",
       "3                            5.7                    95.0  07/01/2010   \n",
       "4                            5.4                    20.0  07/01/2010   \n",
       "5                            5.3                    19.0  07/01/2010   \n",
       "6                            5.2                    38.0  07/01/2010   \n",
       "7                            6.1                    24.0  07/01/2010   \n",
       "8                            5.3                    15.0  07/01/2010   \n",
       "9                            5.0                    26.0  07/01/2010   \n",
       "10                           6.1                    18.0  07/01/2010   \n",
       "11                           6.3                    17.0  07/01/2010   \n",
       "12                           4.6                    59.0  07/01/2010   \n",
       "13                           5.8                    25.0  07/01/2010   \n",
       "14                           5.2                   116.0  07/01/2010   \n",
       "15                           5.5                    26.0  07/01/2010   \n",
       "16                           5.4                    19.0  07/01/2010   \n",
       "17                           4.9                    15.0  07/01/2010   \n",
       "18                           5.3                    31.0  07/01/2010   \n",
       "19                           5.3                    14.0  07/01/2010   \n",
       "20                           5.3                    44.0  07/01/2010   \n",
       "21                           5.1                    31.0  07/01/2010   \n",
       "22                           5.5                    17.0  07/01/2010   \n",
       "23                           5.8                    21.0  07/01/2010   \n",
       "24                           7.0                    16.0  07/01/2010   \n",
       "25                           5.4                    47.0  07/01/2010   \n",
       "26                           5.3                    26.0  07/01/2010   \n",
       "27                           4.9                   119.0  07/01/2010   \n",
       "28                           5.2                    25.0  07/01/2010   \n",
       "29                           6.1                    11.0  07/01/2010   \n",
       "...                          ...                     ...         ...   \n",
       "16830                        NaN                     NaN  07/01/2010   \n",
       "16831                        NaN                     NaN  07/01/2010   \n",
       "16832                        NaN                     NaN  07/01/2010   \n",
       "16833                        NaN                     NaN  07/01/2010   \n",
       "16834                        NaN                     NaN  07/01/2010   \n",
       "16835                        NaN                     NaN  07/01/2010   \n",
       "16836                        NaN                     NaN  07/01/2010   \n",
       "16837                        NaN                     NaN  07/01/2010   \n",
       "16838                        NaN                     NaN  07/01/2010   \n",
       "16839                        NaN                     NaN  07/01/2010   \n",
       "16840                        NaN                     NaN  07/01/2010   \n",
       "16841                        NaN                     NaN  07/01/2010   \n",
       "16842                        NaN                     NaN  07/01/2010   \n",
       "16843                        NaN                     NaN  07/01/2010   \n",
       "16844                        NaN                     NaN  07/01/2010   \n",
       "16845                        NaN                     NaN  07/01/2010   \n",
       "16846                        NaN                     NaN  07/01/2010   \n",
       "16847                        NaN                     NaN  07/01/2010   \n",
       "16848                        NaN                     NaN  07/01/2010   \n",
       "16849                        NaN                     NaN  07/01/2010   \n",
       "16850                        NaN                     NaN  07/01/2010   \n",
       "16851                        NaN                     NaN  07/01/2010   \n",
       "16852                        NaN                     NaN  07/01/2010   \n",
       "16853                        NaN                     NaN  07/01/2010   \n",
       "16854                        NaN                     NaN  07/01/2010   \n",
       "16855                        NaN                     NaN  07/01/2010   \n",
       "16856                        NaN                     NaN  07/01/2010   \n",
       "16857                        NaN                     NaN  07/01/2010   \n",
       "16858                        NaN                     NaN  07/01/2010   \n",
       "16859                        NaN                     NaN  07/01/2010   \n",
       "\n",
       "         End Date  \n",
       "0      06/30/2013  \n",
       "1      06/30/2013  \n",
       "2      06/30/2013  \n",
       "3      06/30/2013  \n",
       "4      06/30/2013  \n",
       "5      06/30/2013  \n",
       "6      06/30/2013  \n",
       "7      06/30/2013  \n",
       "8      06/30/2013  \n",
       "9      06/30/2013  \n",
       "10     06/30/2013  \n",
       "11     06/30/2013  \n",
       "12     06/30/2013  \n",
       "13     06/30/2013  \n",
       "14     06/30/2013  \n",
       "15     06/30/2013  \n",
       "16     06/30/2013  \n",
       "17     06/30/2013  \n",
       "18     06/30/2013  \n",
       "19     06/30/2013  \n",
       "20     06/30/2013  \n",
       "21     06/30/2013  \n",
       "22     06/30/2013  \n",
       "23     06/30/2013  \n",
       "24     06/30/2013  \n",
       "25     06/30/2013  \n",
       "26     06/30/2013  \n",
       "27     06/30/2013  \n",
       "28     06/30/2013  \n",
       "29     06/30/2013  \n",
       "...           ...  \n",
       "16830  06/30/2013  \n",
       "16831  06/30/2013  \n",
       "16832  06/30/2013  \n",
       "16833  06/30/2013  \n",
       "16834  06/30/2013  \n",
       "16835  06/30/2013  \n",
       "16836  06/30/2013  \n",
       "16837  06/30/2013  \n",
       "16838  06/30/2013  \n",
       "16839  06/30/2013  \n",
       "16840  06/30/2013  \n",
       "16841  06/30/2013  \n",
       "16842  06/30/2013  \n",
       "16843  06/30/2013  \n",
       "16844  06/30/2013  \n",
       "16845  06/30/2013  \n",
       "16846  06/30/2013  \n",
       "16847  06/30/2013  \n",
       "16848  06/30/2013  \n",
       "16849  06/30/2013  \n",
       "16850  06/30/2013  \n",
       "16851  06/30/2013  \n",
       "16852  06/30/2013  \n",
       "16853  06/30/2013  \n",
       "16854  06/30/2013  \n",
       "16855  06/30/2013  \n",
       "16856  06/30/2013  \n",
       "16857  06/30/2013  \n",
       "16858  06/30/2013  \n",
       "16859  06/30/2013  \n",
       "\n",
       "[16860 rows x 12 columns]"
      ]
     },
     "execution_count": 2,
     "metadata": {},
     "output_type": "execute_result"
    }
   ],
   "source": [
    "# read in readmissions data provided\n",
    "hospital_read_df = pd.read_csv('data/cms_hospital_readmissions.csv')\n",
    "hospital_read_df"
   ]
  },
  {
   "cell_type": "markdown",
   "metadata": {},
   "source": [
    "****\n",
    "## Preliminary Analysis"
   ]
  },
  {
   "cell_type": "code",
   "execution_count": 13,
   "metadata": {
    "collapsed": false
   },
   "outputs": [
    {
     "name": "stderr",
     "output_type": "stream",
     "text": [
      "C:\\Users\\owner\\Anaconda3\\lib\\site-packages\\pandas\\core\\indexing.py:477: SettingWithCopyWarning: \n",
      "A value is trying to be set on a copy of a slice from a DataFrame.\n",
      "Try using .loc[row_indexer,col_indexer] = value instead\n",
      "\n",
      "See the caveats in the documentation: http://pandas.pydata.org/pandas-docs/stable/indexing.html#indexing-view-versus-copy\n",
      "  self.obj[item] = s\n"
     ]
    },
    {
     "data": {
      "text/html": [
       "<div>\n",
       "<table border=\"1\" class=\"dataframe\">\n",
       "  <thead>\n",
       "    <tr style=\"text-align: right;\">\n",
       "      <th></th>\n",
       "      <th>Hospital Name</th>\n",
       "      <th>Provider Number</th>\n",
       "      <th>State</th>\n",
       "      <th>Measure Name</th>\n",
       "      <th>Number of Discharges</th>\n",
       "      <th>Footnote</th>\n",
       "      <th>Excess Readmission Ratio</th>\n",
       "      <th>Predicted Readmission Rate</th>\n",
       "      <th>Expected Readmission Rate</th>\n",
       "      <th>Number of Readmissions</th>\n",
       "      <th>Start Date</th>\n",
       "      <th>End Date</th>\n",
       "    </tr>\n",
       "  </thead>\n",
       "  <tbody>\n",
       "    <tr>\n",
       "      <th>16857</th>\n",
       "      <td>THREE RIVERS MEDICAL CENTER</td>\n",
       "      <td>180128</td>\n",
       "      <td>KY</td>\n",
       "      <td>READM-30-HIP-KNEE-HRRP</td>\n",
       "      <td>0</td>\n",
       "      <td>7.0</td>\n",
       "      <td>NaN</td>\n",
       "      <td>NaN</td>\n",
       "      <td>NaN</td>\n",
       "      <td>NaN</td>\n",
       "      <td>07/01/2010</td>\n",
       "      <td>06/30/2013</td>\n",
       "    </tr>\n",
       "    <tr>\n",
       "      <th>14582</th>\n",
       "      <td>SELLS INDIAN HEALTH SERVICE HOSPITAL</td>\n",
       "      <td>30074</td>\n",
       "      <td>AZ</td>\n",
       "      <td>READM-30-COPD-HRRP</td>\n",
       "      <td>0</td>\n",
       "      <td>7.0</td>\n",
       "      <td>NaN</td>\n",
       "      <td>NaN</td>\n",
       "      <td>NaN</td>\n",
       "      <td>NaN</td>\n",
       "      <td>07/01/2010</td>\n",
       "      <td>06/30/2013</td>\n",
       "    </tr>\n",
       "    <tr>\n",
       "      <th>15606</th>\n",
       "      <td>PHS INDIAN HOSPITAL AT PINE RIDGE</td>\n",
       "      <td>430081</td>\n",
       "      <td>SD</td>\n",
       "      <td>READM-30-AMI-HRRP</td>\n",
       "      <td>0</td>\n",
       "      <td>7.0</td>\n",
       "      <td>NaN</td>\n",
       "      <td>NaN</td>\n",
       "      <td>NaN</td>\n",
       "      <td>NaN</td>\n",
       "      <td>07/01/2010</td>\n",
       "      <td>06/30/2013</td>\n",
       "    </tr>\n",
       "    <tr>\n",
       "      <th>15615</th>\n",
       "      <td>FLORIDA STATE HOSPITAL UNIT 31 MED</td>\n",
       "      <td>100298</td>\n",
       "      <td>FL</td>\n",
       "      <td>READM-30-COPD-HRRP</td>\n",
       "      <td>0</td>\n",
       "      <td>7.0</td>\n",
       "      <td>NaN</td>\n",
       "      <td>NaN</td>\n",
       "      <td>NaN</td>\n",
       "      <td>NaN</td>\n",
       "      <td>07/01/2010</td>\n",
       "      <td>06/30/2013</td>\n",
       "    </tr>\n",
       "    <tr>\n",
       "      <th>14551</th>\n",
       "      <td>GREENE COUNTY HOSPITAL</td>\n",
       "      <td>10051</td>\n",
       "      <td>AL</td>\n",
       "      <td>READM-30-AMI-HRRP</td>\n",
       "      <td>0</td>\n",
       "      <td>7.0</td>\n",
       "      <td>NaN</td>\n",
       "      <td>NaN</td>\n",
       "      <td>NaN</td>\n",
       "      <td>NaN</td>\n",
       "      <td>07/01/2010</td>\n",
       "      <td>06/30/2013</td>\n",
       "    </tr>\n",
       "  </tbody>\n",
       "</table>\n",
       "</div>"
      ],
      "text/plain": [
       "                              Hospital Name  Provider Number State  \\\n",
       "16857           THREE RIVERS MEDICAL CENTER           180128    KY   \n",
       "14582  SELLS INDIAN HEALTH SERVICE HOSPITAL            30074    AZ   \n",
       "15606     PHS INDIAN HOSPITAL AT PINE RIDGE           430081    SD   \n",
       "15615    FLORIDA STATE HOSPITAL UNIT 31 MED           100298    FL   \n",
       "14551                GREENE COUNTY HOSPITAL            10051    AL   \n",
       "\n",
       "                 Measure Name  Number of Discharges  Footnote  \\\n",
       "16857  READM-30-HIP-KNEE-HRRP                     0       7.0   \n",
       "14582      READM-30-COPD-HRRP                     0       7.0   \n",
       "15606       READM-30-AMI-HRRP                     0       7.0   \n",
       "15615      READM-30-COPD-HRRP                     0       7.0   \n",
       "14551       READM-30-AMI-HRRP                     0       7.0   \n",
       "\n",
       "       Excess Readmission Ratio  Predicted Readmission Rate  \\\n",
       "16857                       NaN                         NaN   \n",
       "14582                       NaN                         NaN   \n",
       "15606                       NaN                         NaN   \n",
       "15615                       NaN                         NaN   \n",
       "14551                       NaN                         NaN   \n",
       "\n",
       "       Expected Readmission Rate  Number of Readmissions  Start Date  \\\n",
       "16857                        NaN                     NaN  07/01/2010   \n",
       "14582                        NaN                     NaN  07/01/2010   \n",
       "15606                        NaN                     NaN  07/01/2010   \n",
       "15615                        NaN                     NaN  07/01/2010   \n",
       "14551                        NaN                     NaN  07/01/2010   \n",
       "\n",
       "         End Date  \n",
       "16857  06/30/2013  \n",
       "14582  06/30/2013  \n",
       "15606  06/30/2013  \n",
       "15615  06/30/2013  \n",
       "14551  06/30/2013  "
      ]
     },
     "execution_count": 13,
     "metadata": {},
     "output_type": "execute_result"
    }
   ],
   "source": [
    "# deal with missing and inconvenient portions of data \n",
    "clean_hospital_read_df = hospital_read_df[hospital_read_df['Number of Discharges'] != 'Not Available']\n",
    "clean_hospital_read_df.loc[:, 'Number of Discharges'] = clean_hospital_read_df['Number of Discharges'].astype(int)\n",
    "clean_hospital_read_df = clean_hospital_read_df.sort_values('Number of Discharges')\n",
    "clean_hospital_read_df.head()"
   ]
  },
  {
   "cell_type": "code",
   "execution_count": 4,
   "metadata": {
    "collapsed": false
   },
   "outputs": [
    {
     "data": {
      "image/png": "[encoded data removed]",
      "text/plain": [
       "<matplotlib.figure.Figure at 0x222a57ff940>"
      ]
     },
     "metadata": {},
     "output_type": "display_data"
    }
   ],
   "source": [
    "# generate a scatterplot for number of discharges vs. excess rate of readmissions\n",
    "# lists work better with matplotlib scatterplot function\n",
    "x = [a for a in clean_hospital_read_df['Number of Discharges'][81:-3]]\n",
    "y = list(clean_hospital_read_df['Excess Readmission Ratio'][81:-3])\n",
    "\n",
    "fig, ax = plt.subplots(figsize=(8,5))\n",
    "ax.scatter(x, y,alpha=0.2)\n",
    "\n",
    "ax.fill_between([0,350], 1.15, 2, facecolor='red', alpha = .15, interpolate=True)\n",
    "ax.fill_between([800,2500], .5, .95, facecolor='green', alpha = .15, interpolate=True)\n",
    "\n",
    "ax.set_xlim([0, max(x)])\n",
    "ax.set_xlabel('Number of discharges', fontsize=12)\n",
    "ax.set_ylabel('Excess rate of readmissions', fontsize=12)\n",
    "ax.set_title('Scatterplot of number of discharges vs. excess rate of readmissions', fontsize=14)\n",
    "\n",
    "ax.grid(True)\n",
    "fig.tight_layout()"
   ]
  },
  {
   "cell_type": "markdown",
   "metadata": {},
   "source": [
    "****\n",
    "\n",
    "## Preliminary Report\n",
    "\n",
    "Read the following results/report. While you are reading it, think about if the conclusions are correct, incorrect, misleading or unfounded. Think about what you would change or what additional analyses you would perform.\n",
    "\n",
    "**A. Initial observations based on the plot above**\n",
    "+ Overall, rate of readmissions is trending down with increasing number of discharges\n",
    "+ With lower number of discharges, there is a greater incidence of excess rate of readmissions (area shaded red)\n",
    "+ With higher number of discharges, there is a greater incidence of lower rates of readmissions (area shaded green) \n",
    "\n",
    "**B. Statistics**\n",
    "+ In hospitals/facilities with number of discharges < 100, mean excess readmission rate is 1.023 and 63% have excess readmission rate greater than 1 \n",
    "+ In hospitals/facilities with number of discharges > 1000, mean excess readmission rate is 0.978 and 44% have excess readmission rate greater than 1 \n",
    "\n",
    "**C. Conclusions**\n",
    "+ There is a significant correlation between hospital capacity (number of discharges) and readmission rates. \n",
    "+ Smaller hospitals/facilities may be lacking necessary resources to ensure quality care and prevent complications that lead to readmissions.\n",
    "\n",
    "**D. Regulatory policy recommendations**\n",
    "+ Hospitals/facilties with small capacity (< 300) should be required to demonstrate upgraded resource allocation for quality care to continue operation.\n",
    "+ Directives and incentives should be provided for consolidation of hospitals and facilities to have a smaller number of them with higher capacity and number of discharges."
   ]
  },
  {
   "cell_type": "markdown",
   "metadata": {},
   "source": [
    "****\n",
    "<div class=\"span5 alert alert-info\">\n",
    "### Exercise\n",
    "\n",
    "Include your work on the following **in this notebook and submit to your Github account**. \n",
    "\n",
    "A. Do you agree with the above analysis and recommendations? Why or why not?\n",
    "   \n",
    "B. Provide support for your arguments and your own recommendations with a statistically sound analysis:\n",
    "\n",
    "   1. Setup an appropriate hypothesis test.\n",
    "   2. Compute and report the observed significance value (or p-value).\n",
    "   3. Report statistical significance for $\\alpha$ = .01. \n",
    "   4. Discuss statistical significance and practical significance. Do they differ here? How does this change your recommendation to the client?\n",
    "   5. Look at the scatterplot above. \n",
    "      - What are the advantages and disadvantages of using this plot to convey information?\n",
    "      - Construct another plot that conveys the same information in a more direct manner.\n",
    "\n",
    "\n",
    "\n",
    "You can compose in notebook cells using Markdown: \n",
    "+ In the control panel at the top, choose Cell > Cell Type > Markdown\n",
    "+ Markdown syntax: http://nestacms.com/docs/creating-content/markdown-cheat-sheet\n",
    "</div>\n",
    "****"
   ]
  },
  {
   "cell_type": "markdown",
   "metadata": {
    "collapsed": true
   },
   "source": [
    "# A. Do you agree with the above analysis and recommendations?Why or why not?"
   ]
  },
  {
   "cell_type": "markdown",
   "metadata": {},
   "source": [
    "I do not completely agree with the above analysis and preliminary report.There are a lot of missing statistical analysis and the \n",
    "entire analysis was based purely on graphs.Some of my observations are discussed as below:\n",
    "\n",
    "1. There are a lot of missing data that was just dropped and replaced with NaN values.\n",
    "\n",
    "2. The preliminary observations was made entirely based on the plot alone and other statistical parameter such as statistical significance and correlation coefficient was not calculated.\n",
    "\n",
    "3. There was no \"Hypothesis testing\" done nor any kind of \"Significance Testing\".The hospitals were grouped into two and the boundaries were set to 1000 discharges.The group of people that lies in the boundary of 100<= number of discharges <=1000 was not considered into account.Therefore, the calculated percentages of hospitals with excess readmission rate 63% and 44%) is only for the two groups missing a big chunk of the hospitals in the population.\n",
    "\n",
    "4. There was no solid conclusion based on statistical hypothesis or evidence.\n",
    "\n",
    "5. In the statistics part, hospital capacity was divided in two groups which can imply that small hospitals have number of discharges <100. However in the recommendation part, small capacity hospitals was defined as hospitals with number of discharges <300 which is inconsistent and can create confusion."
   ]
  },
  {
   "cell_type": "code",
   "execution_count": 14,
   "metadata": {
    "collapsed": false
   },
   "outputs": [
    {
     "data": {
      "text/html": [
       "<div>\n",
       "<table border=\"1\" class=\"dataframe\">\n",
       "  <thead>\n",
       "    <tr style=\"text-align: right;\">\n",
       "      <th></th>\n",
       "      <th>Provider Number</th>\n",
       "      <th>Footnote</th>\n",
       "      <th>Excess Readmission Ratio</th>\n",
       "      <th>Predicted Readmission Rate</th>\n",
       "      <th>Expected Readmission Rate</th>\n",
       "      <th>Number of Readmissions</th>\n",
       "    </tr>\n",
       "  </thead>\n",
       "  <tbody>\n",
       "    <tr>\n",
       "      <th>count</th>\n",
       "      <td>16860.000000</td>\n",
       "      <td>3129.000000</td>\n",
       "      <td>13731.000000</td>\n",
       "      <td>13731.000000</td>\n",
       "      <td>13731.000000</td>\n",
       "      <td>11497.000000</td>\n",
       "    </tr>\n",
       "    <tr>\n",
       "      <th>mean</th>\n",
       "      <td>263516.943654</td>\n",
       "      <td>2.905401</td>\n",
       "      <td>1.002582</td>\n",
       "      <td>16.916532</td>\n",
       "      <td>16.866135</td>\n",
       "      <td>63.633731</td>\n",
       "    </tr>\n",
       "    <tr>\n",
       "      <th>std</th>\n",
       "      <td>160146.191702</td>\n",
       "      <td>2.074384</td>\n",
       "      <td>0.091088</td>\n",
       "      <td>6.197542</td>\n",
       "      <td>5.989652</td>\n",
       "      <td>59.540296</td>\n",
       "    </tr>\n",
       "    <tr>\n",
       "      <th>min</th>\n",
       "      <td>10001.000000</td>\n",
       "      <td>1.000000</td>\n",
       "      <td>0.549500</td>\n",
       "      <td>2.700000</td>\n",
       "      <td>2.900000</td>\n",
       "      <td>11.000000</td>\n",
       "    </tr>\n",
       "    <tr>\n",
       "      <th>25%</th>\n",
       "      <td>110181.500000</td>\n",
       "      <td>1.000000</td>\n",
       "      <td>0.949500</td>\n",
       "      <td>15.200000</td>\n",
       "      <td>15.800000</td>\n",
       "      <td>24.000000</td>\n",
       "    </tr>\n",
       "    <tr>\n",
       "      <th>50%</th>\n",
       "      <td>250157.000000</td>\n",
       "      <td>1.000000</td>\n",
       "      <td>0.997100</td>\n",
       "      <td>18.500000</td>\n",
       "      <td>18.500000</td>\n",
       "      <td>45.000000</td>\n",
       "    </tr>\n",
       "    <tr>\n",
       "      <th>75%</th>\n",
       "      <td>390138.250000</td>\n",
       "      <td>5.000000</td>\n",
       "      <td>1.052350</td>\n",
       "      <td>21.100000</td>\n",
       "      <td>21.100000</td>\n",
       "      <td>82.000000</td>\n",
       "    </tr>\n",
       "    <tr>\n",
       "      <th>max</th>\n",
       "      <td>670091.000000</td>\n",
       "      <td>7.000000</td>\n",
       "      <td>1.909500</td>\n",
       "      <td>32.800000</td>\n",
       "      <td>29.400000</td>\n",
       "      <td>879.000000</td>\n",
       "    </tr>\n",
       "  </tbody>\n",
       "</table>\n",
       "</div>"
      ],
      "text/plain": [
       "       Provider Number     Footnote  Excess Readmission Ratio  \\\n",
       "count     16860.000000  3129.000000              13731.000000   \n",
       "mean     263516.943654     2.905401                  1.002582   \n",
       "std      160146.191702     2.074384                  0.091088   \n",
       "min       10001.000000     1.000000                  0.549500   \n",
       "25%      110181.500000     1.000000                  0.949500   \n",
       "50%      250157.000000     1.000000                  0.997100   \n",
       "75%      390138.250000     5.000000                  1.052350   \n",
       "max      670091.000000     7.000000                  1.909500   \n",
       "\n",
       "       Predicted Readmission Rate  Expected Readmission Rate  \\\n",
       "count                13731.000000               13731.000000   \n",
       "mean                    16.916532                  16.866135   \n",
       "std                      6.197542                   5.989652   \n",
       "min                      2.700000                   2.900000   \n",
       "25%                     15.200000                  15.800000   \n",
       "50%                     18.500000                  18.500000   \n",
       "75%                     21.100000                  21.100000   \n",
       "max                     32.800000                  29.400000   \n",
       "\n",
       "       Number of Readmissions  \n",
       "count            11497.000000  \n",
       "mean                63.633731  \n",
       "std                 59.540296  \n",
       "min                 11.000000  \n",
       "25%                 24.000000  \n",
       "50%                 45.000000  \n",
       "75%                 82.000000  \n",
       "max                879.000000  "
      ]
     },
     "execution_count": 14,
     "metadata": {},
     "output_type": "execute_result"
    }
   ],
   "source": [
    "hospital_read_df.describe()"
   ]
  },
  {
   "cell_type": "code",
   "execution_count": 16,
   "metadata": {
    "collapsed": false
   },
   "outputs": [
    {
     "data": {
      "text/plain": [
       "(16860, 12)"
      ]
     },
     "execution_count": 16,
     "metadata": {},
     "output_type": "execute_result"
    }
   ],
   "source": [
    "hospital_read_df.shape"
   ]
  },
  {
   "cell_type": "code",
   "execution_count": 18,
   "metadata": {
    "collapsed": false
   },
   "outputs": [
    {
     "data": {
      "text/plain": [
       "Hospital Name                     0\n",
       "Provider Number                   0\n",
       "State                             0\n",
       "Measure Name                      0\n",
       "Number of Discharges              0\n",
       "Footnote                      13731\n",
       "Excess Readmission Ratio       3129\n",
       "Predicted Readmission Rate     3129\n",
       "Expected Readmission Rate      3129\n",
       "Number of Readmissions         5363\n",
       "Start Date                        0\n",
       "End Date                          0\n",
       "dtype: int64"
      ]
     },
     "execution_count": 18,
     "metadata": {},
     "output_type": "execute_result"
    }
   ],
   "source": [
    "hospital_read_df.isnull().sum()"
   ]
  },
  {
   "cell_type": "code",
   "execution_count": 21,
   "metadata": {
    "collapsed": false
   },
   "outputs": [
    {
     "data": {
      "text/plain": [
       "Hospital Name                    0\n",
       "Provider Number                  0\n",
       "State                            0\n",
       "Measure Name                     0\n",
       "Number of Discharges             0\n",
       "Footnote                      2234\n",
       "Excess Readmission Ratio      3048\n",
       "Predicted Readmission Rate    3048\n",
       "Expected Readmission Rate     3048\n",
       "Number of Readmissions        5282\n",
       "Start Date                       0\n",
       "End Date                         0\n",
       "dtype: int64"
      ]
     },
     "execution_count": 21,
     "metadata": {},
     "output_type": "execute_result"
    }
   ],
   "source": [
    "missing_value=hospital_read_df[hospital_read_df['Number of Discharges']=='Not Available']\n",
    "missing_value.isnull().sum()"
   ]
  },
  {
   "cell_type": "code",
   "execution_count": 22,
   "metadata": {
    "collapsed": false
   },
   "outputs": [
    {
     "data": {
      "text/plain": [
       "(11578, 12)"
      ]
     },
     "execution_count": 22,
     "metadata": {},
     "output_type": "execute_result"
    }
   ],
   "source": [
    "new=hospital_read_df[hospital_read_df['Number of Discharges']!='Not Available']\n",
    "new.shape"
   ]
  },
  {
   "cell_type": "code",
   "execution_count": 6,
   "metadata": {
    "collapsed": false
   },
   "outputs": [
    {
     "data": {
      "text/plain": [
       "count    13731.000000\n",
       "mean         1.002582\n",
       "std          0.091088\n",
       "min          0.549500\n",
       "25%          0.949500\n",
       "50%          0.997100\n",
       "75%          1.052350\n",
       "max          1.909500\n",
       "Name: Excess Readmission Ratio, dtype: float64"
      ]
     },
     "execution_count": 6,
     "metadata": {},
     "output_type": "execute_result"
    }
   ],
   "source": [
    "hospital_read_df['Excess Readmission Ratio'].describe()"
   ]
  },
  {
   "cell_type": "code",
   "execution_count": 7,
   "metadata": {
    "collapsed": false
   },
   "outputs": [
    {
     "data": {
      "text/plain": [
       "count    2234.000000\n",
       "mean        0.977254\n",
       "std         0.081908\n",
       "min         0.629900\n",
       "25%         0.937050\n",
       "50%         0.974600\n",
       "75%         1.016075\n",
       "max         1.328700\n",
       "Name: Excess Readmission Ratio, dtype: float64"
      ]
     },
     "execution_count": 7,
     "metadata": {},
     "output_type": "execute_result"
    }
   ],
   "source": [
    "hospital_read_df['Excess Readmission Ratio'][hospital_read_df['Number of Discharges'] == 'Not Available'].describe()"
   ]
  },
  {
   "cell_type": "markdown",
   "metadata": {},
   "source": [
    "The difference in mean excess readmission ratio that is claimed between hospitals with large and small numbers of discharges is similar to the difference between hospitals with missing and non-missing discharge values."
   ]
  },
  {
   "cell_type": "code",
   "execution_count": 8,
   "metadata": {
    "collapsed": false
   },
   "outputs": [
    {
     "data": {
      "text/plain": [
       "260081    5\n",
       "140033    5\n",
       "50125     5\n",
       "390091    5\n",
       "140209    5\n",
       "Name: Provider Number, dtype: int64"
      ]
     },
     "execution_count": 8,
     "metadata": {},
     "output_type": "execute_result"
    }
   ],
   "source": [
    "hospital_read_df[\"Provider Number\"].value_counts().head()"
   ]
  },
  {
   "cell_type": "code",
   "execution_count": 9,
   "metadata": {
    "collapsed": false
   },
   "outputs": [
    {
     "data": {
      "text/plain": [
       "READM-30-AMI-HRRP         3372\n",
       "READM-30-HIP-KNEE-HRRP    3372\n",
       "READM-30-HF-HRRP          3372\n",
       "READM-30-COPD-HRRP        3372\n",
       "READM-30-PN-HRRP          3372\n",
       "Name: Measure Name, dtype: int64"
      ]
     },
     "execution_count": 9,
     "metadata": {},
     "output_type": "execute_result"
    }
   ],
   "source": [
    "hospital_read_df[\"Measure Name\"].value_counts().head()"
   ]
  },
  {
   "cell_type": "markdown",
   "metadata": {},
   "source": [
    "It looks like each hospital has multiple values for different conditions, potentially casting doubt on the independence of the observations.\n",
    "The analysis as reported above focuses on two groups of hospitals. Strictly speaking, there is nothing wrong with looking at subgroups, but this particular grouping seems risky. The analysis above seems to carve out groups that support the hypothesis presented while ignoring data points that potentially contradict the hypothesis. The points in the red box look like they are asymmetric accross the horizontal axis, which to me raises concerns that some of the points either in that region or in the region opposite them are impacted by some type of data coding issue. Additionally, the the excess readmission variable is based on comparing observed and expected readmissions. The observed may deviate more from the expected for fewer numbers of events, so the low discharge hospitals may simply have more variable values rather than systematically higher. In this case, the red box is simply capitializing on noise. Likewise, the points in the red and green boxes may be driven by flaws in the modelling of the \"expected\" readmissions, rather than being driven by truely excessive readmission rates. The interpretation above also goes far beyond what is justified by the data. The analysis is purely correlational, so claims that the observed correlation are driven by lack of resources for smaller facilities are not justified. Changes in policy based on these results as the above report implies are also extremely premature.\n",
    "If the core question is to identify correlation between discharge numbers and readmission ratio globally for all hospitals, as opposed to selected subsets, a more staightforward method would be to simply evaluate the sample correlation between these variables."
   ]
  },
  {
   "cell_type": "code",
   "execution_count": 11,
   "metadata": {
    "collapsed": false
   },
   "outputs": [
    {
     "data": {
      "text/plain": [
       "(-0.093095542875904408, 1.5022756426464526e-23)"
      ]
     },
     "execution_count": 11,
     "metadata": {},
     "output_type": "execute_result"
    }
   ],
   "source": [
    "from scipy.stats import pearsonr\n",
    "pearsonr(x, y)"
   ]
  },
  {
   "cell_type": "markdown",
   "metadata": {},
   "source": [
    "This result implies a slight negative correlation between readmission ratio and discharges, which is in the direction suggested by the above analysis. Caution is warranted in interpreting this in light of the issues I raise above with regard to missing data and outliers. It is difficult to interpret the size of correlations, but this correlation does not seems particuarly large, particularly in light of the appearance of the scatter plot. I believe that the scatter plot is fine if the red and green boxes are ignored."
   ]
  },
  {
   "cell_type": "markdown",
   "metadata": {},
   "source": [
    "# B. Provide support for your arguments and your own recommendations with a statistically sound analysis:\n",
    "1. Setup an appropriate hypothesis test."
   ]
  },
  {
   "cell_type": "markdown",
   "metadata": {},
   "source": [
    "$H$o= There is no significant correlation between hospital capacity(number of discharges) and readmission rates\n",
    "\n",
    "$H$a = There is significant correlation between hospital capacity(number of discharges) and readmission rates"
   ]
  },
  {
   "cell_type": "code",
   "execution_count": 24,
   "metadata": {
    "collapsed": false
   },
   "outputs": [
    {
     "data": {
      "text/html": [
       "<div>\n",
       "<table border=\"1\" class=\"dataframe\">\n",
       "  <thead>\n",
       "    <tr style=\"text-align: right;\">\n",
       "      <th></th>\n",
       "      <th>Hospital Name</th>\n",
       "      <th>Provider Number</th>\n",
       "      <th>State</th>\n",
       "      <th>Measure Name</th>\n",
       "      <th>Number of Discharges</th>\n",
       "      <th>Footnote</th>\n",
       "      <th>Excess Readmission Ratio</th>\n",
       "      <th>Predicted Readmission Rate</th>\n",
       "      <th>Expected Readmission Rate</th>\n",
       "      <th>Number of Readmissions</th>\n",
       "      <th>Start Date</th>\n",
       "      <th>End Date</th>\n",
       "    </tr>\n",
       "  </thead>\n",
       "  <tbody>\n",
       "    <tr>\n",
       "      <th>0</th>\n",
       "      <td>FROEDTERT MEMORIAL LUTHERAN HOSPITAL</td>\n",
       "      <td>520177</td>\n",
       "      <td>WI</td>\n",
       "      <td>READM-30-HIP-KNEE-HRRP</td>\n",
       "      <td>242</td>\n",
       "      <td>NaN</td>\n",
       "      <td>1.9095</td>\n",
       "      <td>10.8</td>\n",
       "      <td>5.6</td>\n",
       "      <td>38.0</td>\n",
       "      <td>07/01/2010</td>\n",
       "      <td>06/30/2013</td>\n",
       "    </tr>\n",
       "    <tr>\n",
       "      <th>1</th>\n",
       "      <td>PROVIDENCE HOSPITAL</td>\n",
       "      <td>90006</td>\n",
       "      <td>DC</td>\n",
       "      <td>READM-30-HIP-KNEE-HRRP</td>\n",
       "      <td>247</td>\n",
       "      <td>NaN</td>\n",
       "      <td>1.7521</td>\n",
       "      <td>9.2</td>\n",
       "      <td>5.3</td>\n",
       "      <td>33.0</td>\n",
       "      <td>07/01/2010</td>\n",
       "      <td>06/30/2013</td>\n",
       "    </tr>\n",
       "    <tr>\n",
       "      <th>2</th>\n",
       "      <td>BEAUFORT COUNTY MEMORIAL HOSPITAL</td>\n",
       "      <td>420067</td>\n",
       "      <td>SC</td>\n",
       "      <td>READM-30-HIP-KNEE-HRRP</td>\n",
       "      <td>586</td>\n",
       "      <td>NaN</td>\n",
       "      <td>1.5836</td>\n",
       "      <td>7.6</td>\n",
       "      <td>4.8</td>\n",
       "      <td>53.0</td>\n",
       "      <td>07/01/2010</td>\n",
       "      <td>06/30/2013</td>\n",
       "    </tr>\n",
       "    <tr>\n",
       "      <th>3</th>\n",
       "      <td>ADVOCATE CHRIST HOSPITAL &amp; MEDICAL CENTER</td>\n",
       "      <td>140208</td>\n",
       "      <td>IL</td>\n",
       "      <td>READM-30-HIP-KNEE-HRRP</td>\n",
       "      <td>965</td>\n",
       "      <td>NaN</td>\n",
       "      <td>1.5760</td>\n",
       "      <td>9.0</td>\n",
       "      <td>5.7</td>\n",
       "      <td>95.0</td>\n",
       "      <td>07/01/2010</td>\n",
       "      <td>06/30/2013</td>\n",
       "    </tr>\n",
       "    <tr>\n",
       "      <th>4</th>\n",
       "      <td>BRAZOSPORT REGIONAL HEALTH SYSTEM</td>\n",
       "      <td>450072</td>\n",
       "      <td>TX</td>\n",
       "      <td>READM-30-HIP-KNEE-HRRP</td>\n",
       "      <td>149</td>\n",
       "      <td>NaN</td>\n",
       "      <td>1.5308</td>\n",
       "      <td>8.2</td>\n",
       "      <td>5.4</td>\n",
       "      <td>20.0</td>\n",
       "      <td>07/01/2010</td>\n",
       "      <td>06/30/2013</td>\n",
       "    </tr>\n",
       "  </tbody>\n",
       "</table>\n",
       "</div>"
      ],
      "text/plain": [
       "                               Hospital Name  Provider Number State  \\\n",
       "0       FROEDTERT MEMORIAL LUTHERAN HOSPITAL           520177    WI   \n",
       "1                        PROVIDENCE HOSPITAL            90006    DC   \n",
       "2          BEAUFORT COUNTY MEMORIAL HOSPITAL           420067    SC   \n",
       "3  ADVOCATE CHRIST HOSPITAL & MEDICAL CENTER           140208    IL   \n",
       "4          BRAZOSPORT REGIONAL HEALTH SYSTEM           450072    TX   \n",
       "\n",
       "             Measure Name Number of Discharges  Footnote  \\\n",
       "0  READM-30-HIP-KNEE-HRRP                  242       NaN   \n",
       "1  READM-30-HIP-KNEE-HRRP                  247       NaN   \n",
       "2  READM-30-HIP-KNEE-HRRP                  586       NaN   \n",
       "3  READM-30-HIP-KNEE-HRRP                  965       NaN   \n",
       "4  READM-30-HIP-KNEE-HRRP                  149       NaN   \n",
       "\n",
       "   Excess Readmission Ratio  Predicted Readmission Rate  \\\n",
       "0                    1.9095                        10.8   \n",
       "1                    1.7521                         9.2   \n",
       "2                    1.5836                         7.6   \n",
       "3                    1.5760                         9.0   \n",
       "4                    1.5308                         8.2   \n",
       "\n",
       "   Expected Readmission Rate  Number of Readmissions  Start Date    End Date  \n",
       "0                        5.6                    38.0  07/01/2010  06/30/2013  \n",
       "1                        5.3                    33.0  07/01/2010  06/30/2013  \n",
       "2                        4.8                    53.0  07/01/2010  06/30/2013  \n",
       "3                        5.7                    95.0  07/01/2010  06/30/2013  \n",
       "4                        5.4                    20.0  07/01/2010  06/30/2013  "
      ]
     },
     "execution_count": 24,
     "metadata": {},
     "output_type": "execute_result"
    }
   ],
   "source": [
    "new=new[new['Number of Readmissions'].notnull()]\n",
    "new.head()"
   ]
  },
  {
   "cell_type": "code",
   "execution_count": 25,
   "metadata": {
    "collapsed": true
   },
   "outputs": [],
   "source": [
    "new['Number of Discharges']=pd.to_numeric(new['Number of Discharges'])"
   ]
  },
  {
   "cell_type": "code",
   "execution_count": 26,
   "metadata": {
    "collapsed": false
   },
   "outputs": [
    {
     "data": {
      "text/plain": [
       "Hospital Name                     0\n",
       "Provider Number                   0\n",
       "State                             0\n",
       "Measure Name                      0\n",
       "Number of Discharges              0\n",
       "Footnote                      11497\n",
       "Excess Readmission Ratio          0\n",
       "Predicted Readmission Rate        0\n",
       "Expected Readmission Rate         0\n",
       "Number of Readmissions            0\n",
       "Start Date                        0\n",
       "End Date                          0\n",
       "dtype: int64"
      ]
     },
     "execution_count": 26,
     "metadata": {},
     "output_type": "execute_result"
    }
   ],
   "source": [
    "new.isnull().sum()"
   ]
  },
  {
   "cell_type": "code",
   "execution_count": 27,
   "metadata": {
    "collapsed": false
   },
   "outputs": [
    {
     "data": {
      "text/html": [
       "<div>\n",
       "<table border=\"1\" class=\"dataframe\">\n",
       "  <thead>\n",
       "    <tr style=\"text-align: right;\">\n",
       "      <th></th>\n",
       "      <th>Provider Number</th>\n",
       "      <th>Number of Discharges</th>\n",
       "      <th>Footnote</th>\n",
       "      <th>Excess Readmission Ratio</th>\n",
       "      <th>Predicted Readmission Rate</th>\n",
       "      <th>Expected Readmission Rate</th>\n",
       "      <th>Number of Readmissions</th>\n",
       "    </tr>\n",
       "  </thead>\n",
       "  <tbody>\n",
       "    <tr>\n",
       "      <th>Provider Number</th>\n",
       "      <td>1.000000</td>\n",
       "      <td>-0.008849</td>\n",
       "      <td>NaN</td>\n",
       "      <td>-0.012112</td>\n",
       "      <td>-0.009049</td>\n",
       "      <td>-0.003710</td>\n",
       "      <td>-0.009099</td>\n",
       "    </tr>\n",
       "    <tr>\n",
       "      <th>Number of Discharges</th>\n",
       "      <td>-0.008849</td>\n",
       "      <td>1.000000</td>\n",
       "      <td>NaN</td>\n",
       "      <td>-0.097398</td>\n",
       "      <td>-0.135163</td>\n",
       "      <td>-0.131091</td>\n",
       "      <td>0.791272</td>\n",
       "    </tr>\n",
       "    <tr>\n",
       "      <th>Footnote</th>\n",
       "      <td>NaN</td>\n",
       "      <td>NaN</td>\n",
       "      <td>NaN</td>\n",
       "      <td>NaN</td>\n",
       "      <td>NaN</td>\n",
       "      <td>NaN</td>\n",
       "      <td>NaN</td>\n",
       "    </tr>\n",
       "    <tr>\n",
       "      <th>Excess Readmission Ratio</th>\n",
       "      <td>-0.012112</td>\n",
       "      <td>-0.097398</td>\n",
       "      <td>NaN</td>\n",
       "      <td>1.000000</td>\n",
       "      <td>0.200039</td>\n",
       "      <td>-0.031104</td>\n",
       "      <td>0.117600</td>\n",
       "    </tr>\n",
       "    <tr>\n",
       "      <th>Predicted Readmission Rate</th>\n",
       "      <td>-0.009049</td>\n",
       "      <td>-0.135163</td>\n",
       "      <td>NaN</td>\n",
       "      <td>0.200039</td>\n",
       "      <td>1.000000</td>\n",
       "      <td>0.965420</td>\n",
       "      <td>0.361033</td>\n",
       "    </tr>\n",
       "    <tr>\n",
       "      <th>Expected Readmission Rate</th>\n",
       "      <td>-0.003710</td>\n",
       "      <td>-0.131091</td>\n",
       "      <td>NaN</td>\n",
       "      <td>-0.031104</td>\n",
       "      <td>0.965420</td>\n",
       "      <td>1.000000</td>\n",
       "      <td>0.330527</td>\n",
       "    </tr>\n",
       "    <tr>\n",
       "      <th>Number of Readmissions</th>\n",
       "      <td>-0.009099</td>\n",
       "      <td>0.791272</td>\n",
       "      <td>NaN</td>\n",
       "      <td>0.117600</td>\n",
       "      <td>0.361033</td>\n",
       "      <td>0.330527</td>\n",
       "      <td>1.000000</td>\n",
       "    </tr>\n",
       "  </tbody>\n",
       "</table>\n",
       "</div>"
      ],
      "text/plain": [
       "                            Provider Number  Number of Discharges  Footnote  \\\n",
       "Provider Number                    1.000000             -0.008849       NaN   \n",
       "Number of Discharges              -0.008849              1.000000       NaN   \n",
       "Footnote                                NaN                   NaN       NaN   \n",
       "Excess Readmission Ratio          -0.012112             -0.097398       NaN   \n",
       "Predicted Readmission Rate        -0.009049             -0.135163       NaN   \n",
       "Expected Readmission Rate         -0.003710             -0.131091       NaN   \n",
       "Number of Readmissions            -0.009099              0.791272       NaN   \n",
       "\n",
       "                            Excess Readmission Ratio  \\\n",
       "Provider Number                            -0.012112   \n",
       "Number of Discharges                       -0.097398   \n",
       "Footnote                                         NaN   \n",
       "Excess Readmission Ratio                    1.000000   \n",
       "Predicted Readmission Rate                  0.200039   \n",
       "Expected Readmission Rate                  -0.031104   \n",
       "Number of Readmissions                      0.117600   \n",
       "\n",
       "                            Predicted Readmission Rate  \\\n",
       "Provider Number                              -0.009049   \n",
       "Number of Discharges                         -0.135163   \n",
       "Footnote                                           NaN   \n",
       "Excess Readmission Ratio                      0.200039   \n",
       "Predicted Readmission Rate                    1.000000   \n",
       "Expected Readmission Rate                     0.965420   \n",
       "Number of Readmissions                        0.361033   \n",
       "\n",
       "                            Expected Readmission Rate  Number of Readmissions  \n",
       "Provider Number                             -0.003710               -0.009099  \n",
       "Number of Discharges                        -0.131091                0.791272  \n",
       "Footnote                                          NaN                     NaN  \n",
       "Excess Readmission Ratio                    -0.031104                0.117600  \n",
       "Predicted Readmission Rate                   0.965420                0.361033  \n",
       "Expected Readmission Rate                    1.000000                0.330527  \n",
       "Number of Readmissions                       0.330527                1.000000  "
      ]
     },
     "execution_count": 27,
     "metadata": {},
     "output_type": "execute_result"
    }
   ],
   "source": [
    "new.head()\n",
    "new.corr()"
   ]
  },
  {
   "cell_type": "markdown",
   "metadata": {},
   "source": [
    "# Correlation of number of discharges with Excess readmission rate"
   ]
  },
  {
   "cell_type": "code",
   "execution_count": 29,
   "metadata": {
    "collapsed": true
   },
   "outputs": [],
   "source": [
    "r1=-0.097398"
   ]
  },
  {
   "cell_type": "code",
   "execution_count": 30,
   "metadata": {
    "collapsed": false
   },
   "outputs": [
    {
     "data": {
      "text/plain": [
       "0.009486370404"
      ]
     },
     "execution_count": 30,
     "metadata": {},
     "output_type": "execute_result"
    }
   ],
   "source": [
    "r_squared=r1**2\n",
    "r_squared"
   ]
  },
  {
   "cell_type": "markdown",
   "metadata": {},
   "source": [
    "Total Number of Hospitals"
   ]
  },
  {
   "cell_type": "code",
   "execution_count": 31,
   "metadata": {
    "collapsed": false
   },
   "outputs": [
    {
     "data": {
      "text/plain": [
       "11497"
      ]
     },
     "execution_count": 31,
     "metadata": {},
     "output_type": "execute_result"
    }
   ],
   "source": [
    "new.shape[0]"
   ]
  },
  {
   "cell_type": "markdown",
   "metadata": {},
   "source": [
    "# Q2B. Calculation p-value and comparing with threshold of alpha=0.05"
   ]
  },
  {
   "cell_type": "markdown",
   "metadata": {},
   "source": [
    "pearson correlation coefficient, t-statitic & degrees of freedom used in calculating p-value and then compared to alpha=0.05"
   ]
  },
  {
   "cell_type": "code",
   "execution_count": 33,
   "metadata": {
    "collapsed": true
   },
   "outputs": [],
   "source": [
    "n1=11497"
   ]
  },
  {
   "cell_type": "code",
   "execution_count": 34,
   "metadata": {
    "collapsed": false
   },
   "outputs": [
    {
     "data": {
      "text/plain": [
       "-10.492386957113085"
      ]
     },
     "execution_count": 34,
     "metadata": {},
     "output_type": "execute_result"
    }
   ],
   "source": [
    "t1=(r1*((n1-2)/(1-r1**2))**0.5)\n",
    "t1"
   ]
  },
  {
   "cell_type": "code",
   "execution_count": 35,
   "metadata": {
    "collapsed": false
   },
   "outputs": [
    {
     "data": {
      "text/plain": [
       "11495"
      ]
     },
     "execution_count": 35,
     "metadata": {},
     "output_type": "execute_result"
    }
   ],
   "source": [
    "df1=n1-2\n",
    "df1"
   ]
  },
  {
   "cell_type": "code",
   "execution_count": 36,
   "metadata": {
    "collapsed": false
   },
   "outputs": [
    {
     "data": {
      "text/plain": [
       "1.2224686234119185e-25"
      ]
     },
     "execution_count": 36,
     "metadata": {},
     "output_type": "execute_result"
    }
   ],
   "source": [
    "p_value1 = stats.t.sf(np.abs(t1), df1)*2  # two-sided pvalue = Prob(abs(t)>tt)\n",
    "p_value1"
   ]
  },
  {
   "cell_type": "markdown",
   "metadata": {},
   "source": [
    "Since the pvalue < 0.05 then we can safely reject the Null Hypothesis $H$o and accept the hypothesis $H$1 and say that there is \n",
    "a significant correlation between hospital capacity and excess readmission ratio.\n",
    "\n",
    "Though correlation coefficient for number of discharges and excess readmission rate (-0.097398)- this number is statistically significant\n",
    "The negative sign of the correlation coefficient means number of discharges and excess readmission rate has a negative correlation, a very small correlation. Meaning as the number of discharges increase there is a very very small increase in the excess readmission ratio.\n",
    "Looking at the r_squared (pearson correlation coefficient squared) which is <1%, this means only <1% of variability in the exess readmission ratio can be explained by number of discharges."
   ]
  },
  {
   "cell_type": "markdown",
   "metadata": {},
   "source": [
    "# Q3B. Report statistical significance for $\\alpha$ = .01."
   ]
  },
  {
   "cell_type": "markdown",
   "metadata": {},
   "source": [
    "The statistical significance for $\\alpha$=.01 will be the same as when $\\alpha$=.05 because p_value will be calculated the same way and assumed  $\\alpha$ will not be part of p_value calculation."
   ]
  },
  {
   "cell_type": "markdown",
   "metadata": {},
   "source": [
    "# Q4B. Discuss statistical significance and practical significance. Do they differ here? How does this change your recommendation to the client?¶"
   ]
  },
  {
   "cell_type": "markdown",
   "metadata": {},
   "source": [
    "Statistical significance means that difference in groups is not likely due to sampling error and this difference (even if very small) is significant when sample size is large. For this sample sample size is 11,497 which is large enough. Practical significance on the other hand is about making sense of what the difference in two groups mean in real life and how it can be applied in practical situation.\n",
    "Statistical significance and practical significance differ in this scenario where the small correlation (weak relationship) of number of discharges and excess readmission ration is very small but significant. The practical importance is seen using r_squared(Pearson correlation coefficient squared = 0.0095)<1%. This means that only 1% of variability in excess readmission ratio can be explained by number of discharges.\n",
    "Looking at the data independently from the preliminary report, I divided the dataset into two sets. Set 1(hosp1) are those with excess readmission ration of <=1 and Set2 (hosp2) with excess readmission ratio >1 to see if there is any significant difference between the number of discharges for these two group of hospitals. Calculations are done below."
   ]
  },
  {
   "cell_type": "code",
   "execution_count": 37,
   "metadata": {
    "collapsed": false
   },
   "outputs": [
    {
     "data": {
      "image/png": "[encoded data removed]",
      "text/plain": [
       "<matplotlib.figure.Figure at 0x222a7a8b0f0>"
      ]
     },
     "metadata": {},
     "output_type": "display_data"
    }
   ],
   "source": [
    "import seaborn as sns\n",
    "sns.set_style(\"whitegrid\")\n",
    "ax = sns.boxplot(x=new['Number of Discharges'])"
   ]
  },
  {
   "cell_type": "code",
   "execution_count": 38,
   "metadata": {
    "collapsed": false
   },
   "outputs": [
    {
     "data": {
      "text/html": [
       "<div>\n",
       "<table border=\"1\" class=\"dataframe\">\n",
       "  <thead>\n",
       "    <tr style=\"text-align: right;\">\n",
       "      <th></th>\n",
       "      <th>Provider Number</th>\n",
       "      <th>Number of Discharges</th>\n",
       "      <th>Footnote</th>\n",
       "      <th>Excess Readmission Ratio</th>\n",
       "      <th>Predicted Readmission Rate</th>\n",
       "      <th>Expected Readmission Rate</th>\n",
       "      <th>Number of Readmissions</th>\n",
       "    </tr>\n",
       "  </thead>\n",
       "  <tbody>\n",
       "    <tr>\n",
       "      <th>count</th>\n",
       "      <td>11497.000000</td>\n",
       "      <td>11497.000000</td>\n",
       "      <td>0.0</td>\n",
       "      <td>11497.000000</td>\n",
       "      <td>11497.000000</td>\n",
       "      <td>11497.000000</td>\n",
       "      <td>11497.000000</td>\n",
       "    </tr>\n",
       "    <tr>\n",
       "      <th>mean</th>\n",
       "      <td>257571.540141</td>\n",
       "      <td>365.466209</td>\n",
       "      <td>NaN</td>\n",
       "      <td>1.007504</td>\n",
       "      <td>17.984292</td>\n",
       "      <td>17.865695</td>\n",
       "      <td>63.633731</td>\n",
       "    </tr>\n",
       "    <tr>\n",
       "      <th>std</th>\n",
       "      <td>154274.374018</td>\n",
       "      <td>308.754590</td>\n",
       "      <td>NaN</td>\n",
       "      <td>0.091964</td>\n",
       "      <td>5.487651</td>\n",
       "      <td>5.240749</td>\n",
       "      <td>59.540296</td>\n",
       "    </tr>\n",
       "    <tr>\n",
       "      <th>min</th>\n",
       "      <td>10001.000000</td>\n",
       "      <td>25.000000</td>\n",
       "      <td>NaN</td>\n",
       "      <td>0.549500</td>\n",
       "      <td>2.700000</td>\n",
       "      <td>3.900000</td>\n",
       "      <td>11.000000</td>\n",
       "    </tr>\n",
       "    <tr>\n",
       "      <th>25%</th>\n",
       "      <td>110129.000000</td>\n",
       "      <td>160.000000</td>\n",
       "      <td>NaN</td>\n",
       "      <td>0.952600</td>\n",
       "      <td>16.300000</td>\n",
       "      <td>16.600000</td>\n",
       "      <td>24.000000</td>\n",
       "    </tr>\n",
       "    <tr>\n",
       "      <th>50%</th>\n",
       "      <td>250042.000000</td>\n",
       "      <td>282.000000</td>\n",
       "      <td>NaN</td>\n",
       "      <td>1.003500</td>\n",
       "      <td>19.000000</td>\n",
       "      <td>19.000000</td>\n",
       "      <td>45.000000</td>\n",
       "    </tr>\n",
       "    <tr>\n",
       "      <th>75%</th>\n",
       "      <td>390039.000000</td>\n",
       "      <td>474.000000</td>\n",
       "      <td>NaN</td>\n",
       "      <td>1.058100</td>\n",
       "      <td>21.500000</td>\n",
       "      <td>21.400000</td>\n",
       "      <td>82.000000</td>\n",
       "    </tr>\n",
       "    <tr>\n",
       "      <th>max</th>\n",
       "      <td>670082.000000</td>\n",
       "      <td>6793.000000</td>\n",
       "      <td>NaN</td>\n",
       "      <td>1.909500</td>\n",
       "      <td>32.800000</td>\n",
       "      <td>28.000000</td>\n",
       "      <td>879.000000</td>\n",
       "    </tr>\n",
       "  </tbody>\n",
       "</table>\n",
       "</div>"
      ],
      "text/plain": [
       "       Provider Number  Number of Discharges  Footnote  \\\n",
       "count     11497.000000          11497.000000       0.0   \n",
       "mean     257571.540141            365.466209       NaN   \n",
       "std      154274.374018            308.754590       NaN   \n",
       "min       10001.000000             25.000000       NaN   \n",
       "25%      110129.000000            160.000000       NaN   \n",
       "50%      250042.000000            282.000000       NaN   \n",
       "75%      390039.000000            474.000000       NaN   \n",
       "max      670082.000000           6793.000000       NaN   \n",
       "\n",
       "       Excess Readmission Ratio  Predicted Readmission Rate  \\\n",
       "count              11497.000000                11497.000000   \n",
       "mean                   1.007504                   17.984292   \n",
       "std                    0.091964                    5.487651   \n",
       "min                    0.549500                    2.700000   \n",
       "25%                    0.952600                   16.300000   \n",
       "50%                    1.003500                   19.000000   \n",
       "75%                    1.058100                   21.500000   \n",
       "max                    1.909500                   32.800000   \n",
       "\n",
       "       Expected Readmission Rate  Number of Readmissions  \n",
       "count               11497.000000            11497.000000  \n",
       "mean                   17.865695               63.633731  \n",
       "std                     5.240749               59.540296  \n",
       "min                     3.900000               11.000000  \n",
       "25%                    16.600000               24.000000  \n",
       "50%                    19.000000               45.000000  \n",
       "75%                    21.400000               82.000000  \n",
       "max                    28.000000              879.000000  "
      ]
     },
     "execution_count": 38,
     "metadata": {},
     "output_type": "execute_result"
    }
   ],
   "source": [
    "new.describe()"
   ]
  },
  {
   "cell_type": "markdown",
   "metadata": {},
   "source": [
    "Large hospitals with Number of Discharges>1000 are only 463"
   ]
  },
  {
   "cell_type": "code",
   "execution_count": 39,
   "metadata": {
    "collapsed": false
   },
   "outputs": [
    {
     "data": {
      "text/plain": [
       "463"
      ]
     },
     "execution_count": 39,
     "metadata": {},
     "output_type": "execute_result"
    }
   ],
   "source": [
    "bigcap=new[new['Number of Discharges']>1000]\n",
    "bigcap.shape[0]"
   ]
  },
  {
   "cell_type": "code",
   "execution_count": 40,
   "metadata": {
    "collapsed": false
   },
   "outputs": [
    {
     "data": {
      "text/plain": [
       "206"
      ]
     },
     "execution_count": 40,
     "metadata": {},
     "output_type": "execute_result"
    }
   ],
   "source": [
    "B1=bigcap[bigcap['Excess Readmission Ratio']>1]\n",
    "B1.shape[0]"
   ]
  },
  {
   "cell_type": "code",
   "execution_count": 41,
   "metadata": {
    "collapsed": false
   },
   "outputs": [
    {
     "data": {
      "text/plain": [
       "257"
      ]
     },
     "execution_count": 41,
     "metadata": {},
     "output_type": "execute_result"
    }
   ],
   "source": [
    "B2=bigcap[bigcap['Excess Readmission Ratio']<=1]\n",
    "B2.shape[0]"
   ]
  },
  {
   "cell_type": "code",
   "execution_count": 42,
   "metadata": {
    "collapsed": true
   },
   "outputs": [],
   "source": [
    "hosp1=new[new['Excess Readmission Ratio']<=1]\n",
    "hosp2=new[new['Excess Readmission Ratio']>1]"
   ]
  },
  {
   "cell_type": "code",
   "execution_count": 45,
   "metadata": {
    "collapsed": false
   },
   "outputs": [
    {
     "data": {
      "text/plain": [
       "<matplotlib.legend.Legend at 0x222a812f320>"
      ]
     },
     "execution_count": 45,
     "metadata": {},
     "output_type": "execute_result"
    },
    {
     "data": {
      "image/png": "[encoded data removed]",
      "text/plain": [
       "<matplotlib.figure.Figure at 0x222a7cb6f98>"
      ]
     },
     "metadata": {},
     "output_type": "display_data"
    }
   ],
   "source": [
    "plt.scatter(hosp1['Number of Discharges'], hosp1['Excess Readmission Ratio'], c='b', label=\"ERR<=1\", alpha=0.10)\n",
    "plt.scatter(hosp2['Number of Discharges'], hosp2['Excess Readmission Ratio'], c='y', label='ERR>1', alpha=0.1)\n",
    "plt.xlabel('Number of Discharges')\n",
    "plt.ylabel('Excess Readmission Ratio')\n",
    "plt.title('Number of Discharges vs Excess Readmissions Ratio')\n",
    "plt.legend()"
   ]
  },
  {
   "cell_type": "markdown",
   "metadata": {},
   "source": [
    "Hospital 1"
   ]
  },
  {
   "cell_type": "code",
   "execution_count": 46,
   "metadata": {
    "collapsed": false
   },
   "outputs": [
    {
     "data": {
      "text/plain": [
       "0.4834304601200313"
      ]
     },
     "execution_count": 46,
     "metadata": {},
     "output_type": "execute_result"
    }
   ],
   "source": [
    "P1=5558/(5558+5939)\n",
    "P1"
   ]
  },
  {
   "cell_type": "markdown",
   "metadata": {},
   "source": [
    "Hospital 2"
   ]
  },
  {
   "cell_type": "code",
   "execution_count": 47,
   "metadata": {
    "collapsed": false
   },
   "outputs": [
    {
     "data": {
      "text/plain": [
       "0.5165695398799687"
      ]
     },
     "execution_count": 47,
     "metadata": {},
     "output_type": "execute_result"
    }
   ],
   "source": [
    "P2=5939/(5558+5939)\n",
    "P2"
   ]
  },
  {
   "cell_type": "markdown",
   "metadata": {},
   "source": [
    "# Using \"Number of Discharges of two groups ERR>1 & ERR<=1\""
   ]
  },
  {
   "cell_type": "markdown",
   "metadata": {},
   "source": [
    "Difference in mean of number of Discharges"
   ]
  },
  {
   "cell_type": "code",
   "execution_count": 48,
   "metadata": {
    "collapsed": false
   },
   "outputs": [
    {
     "data": {
      "text/plain": [
       "30.642615000000035"
      ]
     },
     "execution_count": 48,
     "metadata": {},
     "output_type": "execute_result"
    }
   ],
   "source": [
    "mean_dis_diff=381.295250-350.652635\n",
    "mean_dis_diff"
   ]
  },
  {
   "cell_type": "markdown",
   "metadata": {},
   "source": [
    "Standard Deviation for difference in mean of number of discharges"
   ]
  },
  {
   "cell_type": "code",
   "execution_count": 49,
   "metadata": {
    "collapsed": false
   },
   "outputs": [
    {
     "data": {
      "text/plain": [
       "5.7729524950854332"
      ]
     },
     "execution_count": 49,
     "metadata": {},
     "output_type": "execute_result"
    }
   ],
   "source": [
    "std_dis_diff=np.sqrt((322.753963**2/5558) + (294.309313**2/5939))\n",
    "std_dis_diff"
   ]
  },
  {
   "cell_type": "markdown",
   "metadata": {},
   "source": [
    "Using 0.05 significance level"
   ]
  },
  {
   "cell_type": "code",
   "execution_count": 50,
   "metadata": {
    "collapsed": false
   },
   "outputs": [
    {
     "data": {
      "text/plain": [
       "11.314986890367448"
      ]
     },
     "execution_count": 50,
     "metadata": {},
     "output_type": "execute_result"
    }
   ],
   "source": [
    "moe=1.96*std_dis_diff\n",
    "moe"
   ]
  },
  {
   "cell_type": "markdown",
   "metadata": {},
   "source": [
    "Confidence Interval for differences in number of discharges"
   ]
  },
  {
   "cell_type": "code",
   "execution_count": 51,
   "metadata": {
    "collapsed": false
   },
   "outputs": [
    {
     "data": {
      "text/plain": [
       "array([ 19.32762811,  41.95760189])"
      ]
     },
     "execution_count": 51,
     "metadata": {},
     "output_type": "execute_result"
    }
   ],
   "source": [
    "ci = mean_dis_diff + np.array([-1, 1]) * moe\n",
    "ci"
   ]
  },
  {
   "cell_type": "markdown",
   "metadata": {},
   "source": [
    "Degrees of Freedom"
   ]
  },
  {
   "cell_type": "code",
   "execution_count": 52,
   "metadata": {
    "collapsed": false
   },
   "outputs": [
    {
     "data": {
      "text/plain": [
       "11217.039092559779"
      ]
     },
     "execution_count": 52,
     "metadata": {},
     "output_type": "execute_result"
    }
   ],
   "source": [
    "n1=5558\n",
    "n2=5939\n",
    "H1=(322.753963**2)/n1\n",
    "H2=(294.309313**2)/n2\n",
    "\n",
    "DF=((H1+H2)**2)/(((H1**2)/n1)+((H2**2)/n2))\n",
    "DF"
   ]
  },
  {
   "cell_type": "markdown",
   "metadata": {},
   "source": [
    "t-value statistics"
   ]
  },
  {
   "cell_type": "code",
   "execution_count": 53,
   "metadata": {
    "collapsed": false
   },
   "outputs": [
    {
     "data": {
      "text/plain": [
       "5.3079624379529138"
      ]
     },
     "execution_count": 53,
     "metadata": {},
     "output_type": "execute_result"
    }
   ],
   "source": [
    "t_val=(mean_dis_diff-0)/std_dis_diff\n",
    "t_val"
   ]
  },
  {
   "cell_type": "code",
   "execution_count": 54,
   "metadata": {
    "collapsed": false
   },
   "outputs": [
    {
     "data": {
      "text/plain": [
       "1.1297252848786862e-07"
      ]
     },
     "execution_count": 54,
     "metadata": {},
     "output_type": "execute_result"
    }
   ],
   "source": [
    "p_value = stats.t.sf(np.abs(t_val), DF)*2  \n",
    "p_value"
   ]
  },
  {
   "cell_type": "markdown",
   "metadata": {},
   "source": [
    "\n",
    "p_value $<0.05$ and also $<0.01$ which means I. Ho can be rejected and I. H1 will be accepted\n",
    "H1: There is significant difference between \"number of discharges\" for hospitals with exess readmission ratio <=1 and those with excess readmission ratio>1\n",
    "There is 95% confidence that this difference in mean of \"number discharges\" is 19.33 to 42.96.\n",
    "There is 99.95% confidence that this difference in mean of number of discharge is 11.48 to 49.80."
   ]
  },
  {
   "cell_type": "code",
   "execution_count": 55,
   "metadata": {
    "collapsed": false
   },
   "outputs": [
    {
     "data": {
      "text/plain": [
       "19.166202283683639"
      ]
     },
     "execution_count": 55,
     "metadata": {},
     "output_type": "execute_result"
    }
   ],
   "source": [
    "moe_2=3.32*std_dis_diff\n",
    "moe_2"
   ]
  },
  {
   "cell_type": "code",
   "execution_count": 56,
   "metadata": {
    "collapsed": false
   },
   "outputs": [
    {
     "data": {
      "text/plain": [
       "array([ 11.47641272,  49.80881728])"
      ]
     },
     "execution_count": 56,
     "metadata": {},
     "output_type": "execute_result"
    }
   ],
   "source": [
    "ci_2 = mean_dis_diff + np.array([-1, 1]) * moe_2\n",
    "ci_2"
   ]
  },
  {
   "cell_type": "markdown",
   "metadata": {},
   "source": [
    "# Q5B. Look at the scatterplot above.\n",
    "What are the advantages and disadvantages of using this plot to convey information?\n",
    "\n",
    "Advantages: It has clear labels of axis titles and what it is all about\n",
    "Disadvantages: It is difficult to see the difference or boundary of in the samples that have excess readmission ratio $<=1$ and those $>1$. It can b represented by different colors. I cannot quickly see the correlation of the two axis. Maybe a trendline will help.\n",
    "Construct another plot that conveys the same information in a more direct manner."
   ]
  },
  {
   "cell_type": "code",
   "execution_count": null,
   "metadata": {
    "collapsed": true
   },
   "outputs": [],
   "source": []
  }
 ],
 "metadata": {
  "anaconda-cloud": {},
  "kernelspec": {
   "display_name": "Python 3",
   "language": "python",
   "name": "python3"
  },
  "language_info": {
   "codemirror_mode": {
    "name": "ipython",
    "version": 3
   },
   "file_extension": ".py",
   "mimetype": "text/x-python",
   "name": "python",
   "nbconvert_exporter": "python",
   "pygments_lexer": "ipython3",
   "version": "3.6.0"
  }
 },
 "nbformat": 4,
 "nbformat_minor": 0
}
